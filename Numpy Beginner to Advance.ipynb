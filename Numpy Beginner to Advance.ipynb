{
 "cells": [
  {
   "cell_type": "markdown",
   "id": "ee86647d-fee2-4fbf-931d-7c9f96a49934",
   "metadata": {},
   "source": [
    "# NumPy\n",
    "\n",
    "- **What is NumPy?**\n",
    "  - A Python library for numerical computing.\n",
    "  - Provides support for working with large, multi-dimensional arrays and matrices.\n",
    "  - Contains a variety of functions to perform mathematical and logical operations on arrays.\n",
    "\n",
    "- **Why use NumPy?**\n",
    "  - It is faster than regular Python lists for numerical operations.\n",
    "  - Efficient for handling large datasets and complex calculations.\n",
    "  - Commonly used in fields like data science, machine learning, and scientific computing.\n",
    "\n",
    "- **Key Features:**\n",
    "  - **Arrays**: Main feature; similar to Python lists but more powerful.\n",
    "  - **Mathematical Operations**: Provides built-in functions for quick calculations (e.g., addition, subtraction, multiplication).\n",
    "  - **Multi-Dimensional Support**: Can work with 1D, 2D (matrix), or even higher-dimensional arrays.\n",
    "  - **Broadcasting**: Allows performing operations on arrays of different shapes.\n",
    "\n",
    "- **Basic Example:**\n",
    "  ```python\n",
    "  import numpy as np\n",
    "  arr = np.array([1, 2, 3])\n",
    "  print(arr)\n",
    "  ```\n",
    "\n",
    "- **Installation**:\n",
    "  ```bash\n",
    "  pip install numpy\n",
    "  ```\n",
    "\n",
    "- **Common Uses**:\n",
    "  - Data processing and transformation.\n",
    "  - Linear algebra, statistical analysis.\n",
    "  - Efficient memory usage for large datasets."
   ]
  },
  {
   "cell_type": "markdown",
   "id": "cfef046d-96ab-40b6-a5b0-60638efbb194",
   "metadata": {},
   "source": [
    "# Why do we need arrays in python when we already have lists ?\n",
    "\n",
    "Back in 2008, when machine learning and deep learning were emerging, Python wasn't the obvious choice for data scientists. Why? Because Python was considered slow, especially when working with large datasets. The internal data structures like lists and dictionaries were not optimized for numerical computations, making operations sluggish.\n",
    "\n",
    "Then came a revolutionary development: someone created NumPy arrays. These arrays were implemented in C, a much faster language for numerical operations. They created a wrapper around these efficient arrays, making them accessible in Python. Why did they do it? Because while Python was slow in its native data structures, its syntax was simple and easy to understand.\n",
    "\n",
    "So, NumPy arrays became a game-changer. They provided the speed of C with the simplicity of Python syntax, making Python a viable option for numerical computing tasks. This combination of speed and ease of use propelled Python into the forefront of data science and machine learning, leading to its widespread adoption in the field."
   ]
  },
  {
   "cell_type": "markdown",
   "id": "ef930976-d848-4ffb-b573-986a3e7be06b",
   "metadata": {},
   "source": [
    "# Lists vs NumPy Arrays:\n",
    "\n",
    "- **Data Type**:\n",
    "  - **List**: Can store different data types (e.g., strings, integers, floats).\n",
    "  - **NumPy Array**: Stores only one data type (e.g., all integers or all floats) for efficiency.\n",
    "\n",
    "- **Speed**:\n",
    "  - **List**: Slower for mathematical operations.\n",
    "  - **NumPy Array**: Faster because it uses fixed-size memory and optimized functions for numerical operations.\n",
    "\n",
    "- **Functionality**:\n",
    "  - **List**: General-purpose, lacks built-in math functions.\n",
    "  - **NumPy Array**: Designed for numerical operations, supports element-wise operations, matrix manipulations, etc.\n",
    "\n",
    "- **Memory Efficiency**:\n",
    "  - **List**: Takes more memory.\n",
    "  - **NumPy Array**: More memory-efficient due to fixed data types.\n",
    "\n",
    "- **Operations**:\n",
    "  - **List**: Manual loops required for operations like addition.\n",
    "  - **NumPy Array**: Supports direct vectorized operations (e.g., adding two arrays in one step)."
   ]
  },
  {
   "cell_type": "code",
   "execution_count": 1,
   "id": "f910376e-89f8-4577-b3f0-06547d23c0a2",
   "metadata": {},
   "outputs": [],
   "source": [
    "# Importing Numpy \n",
    "import numpy as np"
   ]
  },
  {
   "cell_type": "code",
   "execution_count": 2,
   "id": "b07d2fbd-9ce6-4bab-9768-8b7cfe0c9a87",
   "metadata": {},
   "outputs": [
    {
     "name": "stdout",
     "output_type": "stream",
     "text": [
      "2.309220314025879\n"
     ]
    }
   ],
   "source": [
    "# Speed Comparision between Numpy vs Lists\n",
    "\n",
    "# list comprehensions \n",
    "a = [i for i in range(10000000)]\n",
    "b = [i for i in range(10000000,20000000)]\n",
    "c = []\n",
    "import time \n",
    "start = time.time()\n",
    "for i in range(len(a)):\n",
    "    c.append(a[i]+b[i])\n",
    "\n",
    "print(time.time()-start)"
   ]
  },
  {
   "cell_type": "code",
   "execution_count": 3,
   "id": "c3432480-37aa-4c8d-8122-6b816cd3310d",
   "metadata": {},
   "outputs": [
    {
     "name": "stdout",
     "output_type": "stream",
     "text": [
      "0.11995315551757812\n"
     ]
    }
   ],
   "source": [
    "a = np.arange(10000000)\n",
    "b = np.arange(10000000,20000000)\n",
    "import time \n",
    "start = time.time()\n",
    "c = a+b \n",
    "print(time.time()-start)"
   ]
  },
  {
   "cell_type": "code",
   "execution_count": 4,
   "id": "cabbb027-4540-4e3a-98b3-b9be5261f1b8",
   "metadata": {},
   "outputs": [
    {
     "data": {
      "text/plain": [
       "21.61427999386576"
      ]
     },
     "execution_count": 4,
     "metadata": {},
     "output_type": "execute_result"
    }
   ],
   "source": [
    "2.4194283485412598/0.11193656921386719"
   ]
  },
  {
   "cell_type": "code",
   "execution_count": 5,
   "id": "ece1c6d8-ff16-4115-a6af-165f9a3c5ed8",
   "metadata": {},
   "outputs": [],
   "source": [
    "# Memory acquisition between Numpy vs List"
   ]
  },
  {
   "cell_type": "code",
   "execution_count": 6,
   "id": "97000daa-d6b7-4ef4-a444-c3a80d9be50b",
   "metadata": {},
   "outputs": [
    {
     "name": "stdout",
     "output_type": "stream",
     "text": [
      "size of list\t 835128600\n",
      "size of array\t 400000112\n"
     ]
    }
   ],
   "source": [
    "import sys \n",
    "\n",
    "a = [i for i in range(100000000)]\n",
    "print('size of list\\t',sys.getsizeof(a))\n",
    "\n",
    "a = np.arange(100000000)\n",
    "print('size of array\\t',sys.getsizeof(a))"
   ]
  },
  {
   "cell_type": "code",
   "execution_count": 7,
   "id": "b3045d43-d622-4f53-bf32-13221e2c594d",
   "metadata": {},
   "outputs": [
    {
     "data": {
      "text/plain": [
       "2.0878209154101435"
      ]
     },
     "execution_count": 7,
     "metadata": {},
     "output_type": "execute_result"
    }
   ],
   "source": [
    "835128600/400000112"
   ]
  },
  {
   "cell_type": "code",
   "execution_count": 8,
   "id": "d4c2597a-0243-4a99-bdaa-b73b3af79a03",
   "metadata": {},
   "outputs": [],
   "source": [
    "# convenience \n",
    "# list \n",
    "a = [i for i in range(10000000)]\n",
    "b = [i for i in range(10000000,20000000)]\n",
    "c = []\n",
    "\n",
    "for i in range(len(a)):\n",
    "    c.append(a[i]+b[i])\n",
    "# array \n",
    "\n",
    "a = np.arange(10000000)\n",
    "b = np.arange(10000000,20000000)\n",
    "\n",
    "c = a+b "
   ]
  },
  {
   "cell_type": "code",
   "execution_count": 9,
   "id": "e6e5fa1b-7154-433a-8361-70140002e749",
   "metadata": {},
   "outputs": [
    {
     "name": "stdout",
     "output_type": "stream",
     "text": [
      "[1, 2, 3, 4, 5, 6]\n",
      "[1 2 3 4 5 6]\n"
     ]
    }
   ],
   "source": [
    "# Quick Comparision\n",
    "print([1,2,3,4,5,6])\n",
    "print(np.array([1,2,3,4,5,6]))"
   ]
  },
  {
   "cell_type": "markdown",
   "id": "7af40b13-f63d-4b85-b507-9f09d0251309",
   "metadata": {},
   "source": [
    "### Creating NumPy Arrays (Theory):"
   ]
  },
  {
   "cell_type": "code",
   "execution_count": 10,
   "id": "bfb5e582-8c32-4d5b-b8ca-e3e2c40420e2",
   "metadata": {},
   "outputs": [],
   "source": [
    "# 0D Array "
   ]
  },
  {
   "cell_type": "code",
   "execution_count": 11,
   "id": "fd47e091-f6e2-4787-abee-88286aa36961",
   "metadata": {},
   "outputs": [
    {
     "name": "stdout",
     "output_type": "stream",
     "text": [
      "[1]\n"
     ]
    }
   ],
   "source": [
    "a = np.array([1])\n",
    "print(a)"
   ]
  },
  {
   "cell_type": "code",
   "execution_count": 12,
   "id": "58a15a27-2631-419c-86cd-d4ed2be627bc",
   "metadata": {},
   "outputs": [],
   "source": [
    "# 1D Array \n",
    "# vector "
   ]
  },
  {
   "cell_type": "code",
   "execution_count": 13,
   "id": "b577c16a-2937-4406-a329-59dd87d2e250",
   "metadata": {},
   "outputs": [
    {
     "name": "stdout",
     "output_type": "stream",
     "text": [
      "[1 2 3 4 5 6]\n",
      "dimension of array\t 1\n"
     ]
    }
   ],
   "source": [
    "a = np.array([1,2,3,4,5,6])\n",
    "print(a)\n",
    "print('dimension of array\\t',a.ndim)"
   ]
  },
  {
   "cell_type": "code",
   "execution_count": 14,
   "id": "713191c5-5f28-4feb-8096-aa07f9cb6572",
   "metadata": {},
   "outputs": [],
   "source": [
    "# Creating 2D and 3D array "
   ]
  },
  {
   "cell_type": "code",
   "execution_count": 15,
   "id": "58f51f68-74ed-447a-b745-7fa381dc947a",
   "metadata": {},
   "outputs": [
    {
     "name": "stdout",
     "output_type": "stream",
     "text": [
      "[[1 2]\n",
      " [3 4]]\n",
      "----------------------------\n",
      "[[1 2]\n",
      " [3 4]]\n",
      "dimension of array\t 2\n"
     ]
    }
   ],
   "source": [
    "# MATRIX\n",
    "\n",
    "a = np.array([[1,2],[3,4]])\n",
    "print(a)\n",
    "print('----------------------------')\n",
    "# easier way\n",
    "x = [1,2]\n",
    "y = [3,4]\n",
    "z = np.array([x,y])\n",
    "print(z)\n",
    "print('dimension of array\\t',z.ndim)"
   ]
  },
  {
   "cell_type": "code",
   "execution_count": 16,
   "id": "5362ad1a-a80b-4640-b47d-9eeb9460092b",
   "metadata": {},
   "outputs": [
    {
     "name": "stdout",
     "output_type": "stream",
     "text": [
      "[[[1 2]\n",
      "  [3 4]]\n",
      "\n",
      " [[4 5]\n",
      "  [6 7]]]\n",
      "------------------------------\n",
      "[[[1 2]\n",
      "  [3 4]]\n",
      "\n",
      " [[5 6]\n",
      "  [7 8]]]\n",
      "dimension of array\t 3\n"
     ]
    }
   ],
   "source": [
    "# Tensor \n",
    "\n",
    "a = np.array([[[1,2],[3,4]],[[4,5],[6,7]]])\n",
    "print(a)\n",
    "\n",
    "# easier way \n",
    "print('------------------------------')\n",
    "a = [1,2]\n",
    "b = [3,4]\n",
    "c = [5,6]\n",
    "d = [7,8]\n",
    "print(np.array([[a,b],[c,d]]))\n",
    "print('dimension of array\\t',np.array([[a,b],[c,d]]).ndim)"
   ]
  },
  {
   "cell_type": "code",
   "execution_count": 17,
   "id": "e592d869-abc5-41d2-96ab-588fdd55a68b",
   "metadata": {},
   "outputs": [
    {
     "name": "stdout",
     "output_type": "stream",
     "text": [
      "[[[[[1 2]\n",
      "    [3 4]]\n",
      "\n",
      "   [[4 5]\n",
      "    [6 7]]]]]\n",
      "dimension of array\t 5\n"
     ]
    }
   ],
   "source": [
    "# nd.array \n",
    "\n",
    "a = np.array([[[[[1,2],[3,4]],[[4,5],[6,7]]]]])\n",
    "print(a)\n",
    "print('dimension of array\\t',a.ndim)"
   ]
  },
  {
   "cell_type": "markdown",
   "id": "a0fea5aa-7b10-454e-b4c4-e4a40e4b3e40",
   "metadata": {},
   "source": [
    "\n",
    "1. **dtype**:\n",
    "   - When creating a NumPy array, you can specify the data type (`dtype`) for the elements (e.g., integers, floats). This ensures that all elements in the array have the same type, providing consistency and efficient memory use.\n"
   ]
  },
  {
   "cell_type": "code",
   "execution_count": 18,
   "id": "ed667068-fc10-4f1f-a3b7-4131eac3ff2c",
   "metadata": {},
   "outputs": [
    {
     "name": "stdout",
     "output_type": "stream",
     "text": [
      "integer\t [1 2 3]\n",
      "float\t [1. 2. 3.]\n",
      "string\t ['1' '2' '3']\n",
      "boolean\t [ True  True  True]\n",
      "complex\t [1.+0.j 2.+0.j 3.+0.j]\n"
     ]
    }
   ],
   "source": [
    "print('integer\\t',np.array([1,2,3],dtype=int))\n",
    "print('float\\t',np.array([1,2,3],dtype=float))\n",
    "print('string\\t',np.array([1,2,3],dtype=str))\n",
    "print('boolean\\t',np.array([1,2,3],dtype=bool))\n",
    "print('complex\\t',np.array([1,2,3],dtype=complex))"
   ]
  },
  {
   "cell_type": "markdown",
   "id": "18718202-0314-44f2-b34e-624836bf9974",
   "metadata": {},
   "source": [
    "\n",
    "2. **np.arange**:\n",
    "   - Creates an array of evenly spaced values within a specified range. It's similar to Python’s built-in `range()` function but returns an array. You can specify the start, stop, and step values."
   ]
  },
  {
   "cell_type": "code",
   "execution_count": 19,
   "id": "82a742df-b876-4d32-9c95-8dbb5d2300c2",
   "metadata": {},
   "outputs": [
    {
     "name": "stdout",
     "output_type": "stream",
     "text": [
      "Array\t [0 1 2 3 4 5 6 7 8 9]\n",
      "Array\t [10 11 12 13 14 15 16 17 18 19]\n",
      "Array\t [20 22 24 26 28 30 32 34 36 38]\n"
     ]
    }
   ],
   "source": [
    "print('Array\\t',np.arange(0,10))\n",
    "print('Array\\t',np.arange(10,20))\n",
    "print('Array\\t',np.arange(20,40,2))"
   ]
  },
  {
   "cell_type": "markdown",
   "id": "3fea4fe3-c7cf-40b4-90ac-582444ca6cdb",
   "metadata": {},
   "source": [
    "\n",
    "3. **with reshape**:\n",
    "   - After creating an array, you can use the `reshape()` method to change its shape (number of rows and columns) without changing the data. This is useful for organizing data into multi-dimensional arrays.\n"
   ]
  },
  {
   "cell_type": "code",
   "execution_count": 20,
   "id": "31466c13-f6fc-4a61-aa86-995f3e15b545",
   "metadata": {},
   "outputs": [
    {
     "name": "stdout",
     "output_type": "stream",
     "text": [
      "[[0 1 2]\n",
      " [3 4 5]\n",
      " [6 7 8]]\n"
     ]
    }
   ],
   "source": [
    "print(np.arange(9).reshape(3,3))"
   ]
  },
  {
   "cell_type": "code",
   "execution_count": 21,
   "id": "251eca1e-a1b3-4146-b0f9-d49d308f7387",
   "metadata": {},
   "outputs": [
    {
     "name": "stdout",
     "output_type": "stream",
     "text": [
      "[[ 0  1  2  3]\n",
      " [ 4  5  6  7]\n",
      " [ 8  9 10 11]]\n"
     ]
    }
   ],
   "source": [
    "print(np.arange(12).reshape(3,4))"
   ]
  },
  {
   "cell_type": "markdown",
   "id": "66273d80-b0b7-49cf-a3fa-ec71d0855a85",
   "metadata": {},
   "source": [
    "\n",
    "4. **np.ones and np.zeros**:\n",
    "   - **np.ones** creates an array filled with ones, and **np.zeros** creates an array filled with zeros. You can specify the shape of the array (e.g., number of rows and columns)."
   ]
  },
  {
   "cell_type": "code",
   "execution_count": 22,
   "id": "a7e0c7a2-e47e-4cdb-a885-2807317ceffa",
   "metadata": {},
   "outputs": [
    {
     "name": "stdout",
     "output_type": "stream",
     "text": [
      "Zeros\t [0. 0. 0.]\n",
      "Ones\t [1. 1. 1.]\n"
     ]
    }
   ],
   "source": [
    "print('Zeros\\t',np.zeros(3))\n",
    "print('Ones\\t',np.ones(3))"
   ]
  },
  {
   "cell_type": "code",
   "execution_count": 23,
   "id": "1a885749-f1ad-4d1c-be40-682d56402d9c",
   "metadata": {},
   "outputs": [
    {
     "name": "stdout",
     "output_type": "stream",
     "text": [
      "Zeros\n",
      " [[0. 0. 0.]\n",
      " [0. 0. 0.]\n",
      " [0. 0. 0.]]\n",
      "---------------------------\n",
      "Ones\n",
      " [[1. 1. 1.]\n",
      " [1. 1. 1.]\n",
      " [1. 1. 1.]]\n"
     ]
    }
   ],
   "source": [
    "print('Zeros\\n',np.zeros(9).reshape(3,3))\n",
    "print('---------------------------')\n",
    "print('Ones\\n',np.ones(9).reshape(3,3))"
   ]
  },
  {
   "cell_type": "markdown",
   "id": "4a437c06-b088-466b-85b9-abbc43c9645e",
   "metadata": {},
   "source": [
    "   \n",
    "5. **np.random**:\n",
    "   - Provides various functions to generate arrays filled with random numbers. You can create arrays with random integers, random floats, or samples from specific probability distributions."
   ]
  },
  {
   "cell_type": "code",
   "execution_count": 24,
   "id": "b4d409ee-a40d-47a8-b4b1-e2ad627b7e59",
   "metadata": {},
   "outputs": [
    {
     "name": "stdout",
     "output_type": "stream",
     "text": [
      " Random.Random\n",
      " [0.46349358 0.95650589 0.30417922 0.68806963 0.26078994 0.86013789\n",
      " 0.38659251 0.03279757 0.12841883 0.97123816]\n"
     ]
    }
   ],
   "source": [
    "print(' Random.Random\\n',np.random.random(10))"
   ]
  },
  {
   "cell_type": "markdown",
   "id": "31df9c59-6354-4b67-a078-8661178f2728",
   "metadata": {},
   "source": [
    "6. **np.linspace**:\n",
    "   - Creates an array of evenly spaced values between a specified start and stop value. Unlike `arange`, you specify the number of values to generate, not the step size."
   ]
  },
  {
   "cell_type": "code",
   "execution_count": 25,
   "id": "5df4cc2e-777c-4ddf-bbf6-548403e7ec90",
   "metadata": {},
   "outputs": [
    {
     "name": "stdout",
     "output_type": "stream",
     "text": [
      "[ 1.  2.  3.  4.  5.  6.  7.  8.  9. 10.]\n",
      "---------------------------------------------\n",
      "[10.   13.25 16.5  19.75 23.  ]\n"
     ]
    }
   ],
   "source": [
    "# linspace(starting_point,Ending_point, in_between )\n",
    "print(np.linspace(1,10,10))\n",
    "print('---------------------------------------------')\n",
    "print(np.linspace(10,23,5))"
   ]
  },
  {
   "cell_type": "markdown",
   "id": "c9c201b6-cab7-48bd-bd78-e75301f44dc7",
   "metadata": {},
   "source": [
    "\n",
    "7. **np.identity**:\n",
    "   - Creates a square identity matrix, where all diagonal elements are 1, and all other elements are 0. It is used in linear algebra applications."
   ]
  },
  {
   "cell_type": "code",
   "execution_count": 26,
   "id": "d0309c5e-0261-4274-acbc-79767dccc138",
   "metadata": {},
   "outputs": [
    {
     "name": "stdout",
     "output_type": "stream",
     "text": [
      " Identity Matrix\n",
      " [[1. 0. 0.]\n",
      " [0. 1. 0.]\n",
      " [0. 0. 1.]]\n"
     ]
    }
   ],
   "source": [
    "print(' Identity Matrix\\n',np.identity(3))"
   ]
  },
  {
   "cell_type": "markdown",
   "id": "74926212-8f3a-4b4e-ada1-0b3689d2c1a5",
   "metadata": {},
   "source": [
    "\n",
    "8. **np.eye**:\n",
    "   - Similar to `np.identity`, but allows you to specify the number of rows and columns separately, and you can also specify an offset for the diagonal."
   ]
  },
  {
   "cell_type": "code",
   "execution_count": 27,
   "id": "5cd91a76-a845-431e-b786-2d438077c164",
   "metadata": {},
   "outputs": [
    {
     "name": "stdout",
     "output_type": "stream",
     "text": [
      " Eye\n",
      " [[1. 0. 0. 0.]\n",
      " [0. 1. 0. 0.]\n",
      " [0. 0. 1. 0.]]\n"
     ]
    }
   ],
   "source": [
    "print(' Eye\\n',np.eye(3,4))"
   ]
  },
  {
   "cell_type": "markdown",
   "id": "169f41e5-5f5f-443c-8c7e-7ebc4b5b2680",
   "metadata": {},
   "source": [
    "### Random Functions in NumPy:\n",
    "\n",
    "1. **`randint`**:\n",
    "   - Generates random integers from a specified range (inclusive of the lower bound, exclusive of the upper bound).\n",
    "   - Syntax: `np.random.randint(low, high, size)`\n",
    "   - Example: `np.random.randint(1, 10, 5)` generates 5 random integers between 1 and 9."
   ]
  },
  {
   "cell_type": "code",
   "execution_count": 28,
   "id": "fcd64963-a7f5-42ca-b488-36fb0b80d0cc",
   "metadata": {},
   "outputs": [
    {
     "name": "stdout",
     "output_type": "stream",
     "text": [
      " Random numbers between 1-100\n",
      " [70 21 83  3 96 45 57 71 60 58 22 15 52 51 39 83 34 60 88  3]\n"
     ]
    }
   ],
   "source": [
    "print(' Random numbers between 1-100\\n',np.random.randint(1,100,20))"
   ]
  },
  {
   "cell_type": "markdown",
   "id": "209fa71b-aa27-4a86-8ffc-1dae1abb95d8",
   "metadata": {},
   "source": [
    "2. **`random_integers`**:\n",
    "   - Generates random integers from a specified range (both bounds are inclusive).\n",
    "   - Syntax: `np.random.random_integers(low, high, size)`\n",
    "   - Example: `np.random.random_integers(1, 10, 5)` generates 5 random integers between 1 and 10.\n",
    "   - **Note**: Deprecated in newer versions of NumPy. `randint` is preferred."
   ]
  },
  {
   "cell_type": "code",
   "execution_count": 29,
   "id": "0cf76817-d302-46a3-aa54-53a7b7a453b9",
   "metadata": {},
   "outputs": [
    {
     "name": "stdout",
     "output_type": "stream",
     "text": [
      " Random Integers between 1-5\n",
      " [4 4 2 5 2 2 5 1 3 5]\n"
     ]
    }
   ],
   "source": [
    "import warnings \n",
    "warnings.filterwarnings('ignore')\n",
    "print(' Random Integers between 1-5\\n',np.random.random_integers(1,5,10))"
   ]
  },
  {
   "cell_type": "markdown",
   "id": "710cc58d-e5f1-49af-b190-2ef08e6725b9",
   "metadata": {},
   "source": [
    "\n",
    "3. **`random`**:\n",
    "   - Generates random floats between 0 and 1, following a uniform distribution.\n",
    "   - Syntax: `np.random.random(size)`\n",
    "   - Example: `np.random.random(5)` generates 5 random floats between 0 and 1."
   ]
  },
  {
   "cell_type": "code",
   "execution_count": 30,
   "id": "b10724a4-6f3d-44a2-adbf-000e4cec0425",
   "metadata": {},
   "outputs": [
    {
     "name": "stdout",
     "output_type": "stream",
     "text": [
      " Random Numbers\n",
      " [0.21667427 0.3143569  0.56607481 0.68497554 0.63847348]\n"
     ]
    }
   ],
   "source": [
    "print(' Random Numbers\\n',np.random.random(5))"
   ]
  },
  {
   "cell_type": "markdown",
   "id": "4be5c5f2-8c13-45a5-92b8-75608b0fccd4",
   "metadata": {},
   "source": [
    "\n",
    "4. **`rand`**:\n",
    "   - Generates random floats between 0 and 1, similar to `random()`, but can take multiple shape arguments.\n",
    "   - Syntax: `np.random.rand(d0, d1, ..., dn)`\n",
    "   - Example: `np.random.rand(2, 3)` generates a 2x3 array of random floats."
   ]
  },
  {
   "cell_type": "code",
   "execution_count": 31,
   "id": "e01551f0-90ff-40c1-a502-b7ea83bb2463",
   "metadata": {},
   "outputs": [
    {
     "name": "stdout",
     "output_type": "stream",
     "text": [
      " Matrix using Rand\n",
      " [[0.7391598  0.32049948 0.6726391 ]\n",
      " [0.98759855 0.70981669 0.08228224]\n",
      " [0.24104443 0.9780452  0.1434644 ]]\n"
     ]
    }
   ],
   "source": [
    "print(' Matrix using Rand\\n',np.random.rand(3,3))"
   ]
  },
  {
   "cell_type": "markdown",
   "id": "6c9e1c4e-5e69-4deb-b84c-7f22ee7b0265",
   "metadata": {},
   "source": [
    "5. **`randn`**:\n",
    "   - Generates random numbers from a standard normal distribution (mean 0, variance 1).\n",
    "   - Syntax: `np.random.randn(d0, d1, ..., dn)`\n",
    "   - Example: `np.random.randn(3, 4)` generates a 3x4 array of random numbers from a normal distribution."
   ]
  },
  {
   "cell_type": "code",
   "execution_count": 32,
   "id": "a87e9a97-2032-41cd-961e-ad96a6e4c0e9",
   "metadata": {},
   "outputs": [
    {
     "name": "stdout",
     "output_type": "stream",
     "text": [
      " Matrix using Randn\n",
      " [[-0.16304839]\n",
      " [ 0.14412093]\n",
      " [ 0.84732269]\n",
      " [ 1.67106887]\n",
      " [ 0.28299972]\n",
      " [ 0.22207446]\n",
      " [ 0.35932029]\n",
      " [-0.28053095]\n",
      " [-0.35477102]\n",
      " [ 1.48948059]\n",
      " [ 0.52154591]\n",
      " [-0.10011384]\n",
      " [ 2.34664862]\n",
      " [-0.23499037]\n",
      " [ 0.1646426 ]]\n"
     ]
    },
    {
     "data": {
      "image/png": "[encoded data removed]",
      "text/plain": [
       "<Figure size 640x480 with 1 Axes>"
      ]
     },
     "metadata": {},
     "output_type": "display_data"
    }
   ],
   "source": [
    "print(' Matrix using Randn\\n',np.random.randn(15,1))\n",
    "import matplotlib.pyplot as plt \n",
    "import seaborn as sns \n",
    "sns.kdeplot(np.random.randn(15,1))\n",
    "plt.show()"
   ]
  },
  {
   "cell_type": "markdown",
   "id": "43f28fdc-6dff-4113-8b04-349d25e42f63",
   "metadata": {},
   "source": [
    "### NumPy Array Attributes"
   ]
  },
  {
   "cell_type": "code",
   "execution_count": 33,
   "id": "6582f92c-dec7-4410-9538-389dd10a0072",
   "metadata": {},
   "outputs": [
    {
     "name": "stdout",
     "output_type": "stream",
     "text": [
      " vector\n",
      " [0 1 2 3 4 5 6 7 8 9]\n",
      "-------------------------\n",
      " matrix\n",
      " [[ 0.  1.  2.  3.]\n",
      " [ 4.  5.  6.  7.]\n",
      " [ 8.  9. 10. 11.]]\n",
      "-------------------------\n",
      " tensor\n",
      " [[[0 1]\n",
      "  [2 3]]\n",
      "\n",
      " [[4 5]\n",
      "  [6 7]]]\n"
     ]
    }
   ],
   "source": [
    "# Sample Arrays \n",
    "a = np.arange(10)\n",
    "b = np.arange(12,dtype=float).reshape(3,4)\n",
    "c = np.arange(8).reshape(2,2,2)\n",
    "\n",
    "print(' vector\\n',a)\n",
    "print('-------------------------')\n",
    "print(' matrix\\n',b)\n",
    "print('-------------------------')\n",
    "print(' tensor\\n',c)"
   ]
  },
  {
   "cell_type": "markdown",
   "id": "44fac270-c243-4d40-873d-a8e0e3db3e2e",
   "metadata": {},
   "source": [
    "1. **ndim**:\n",
    "   - Represents the number of dimensions (or axes) an array has. For example, a 1D array has 1 dimension, a 2D array has 2 dimensions (rows and columns), and so on."
   ]
  },
  {
   "cell_type": "code",
   "execution_count": 34,
   "id": "4e1db109-8629-4859-b3e5-17bc51b8e4b7",
   "metadata": {},
   "outputs": [
    {
     "name": "stdout",
     "output_type": "stream",
     "text": [
      "dimensions of a\t 1\n",
      "dimensions of b\t 2\n",
      "dimensions of c\t 3\n"
     ]
    }
   ],
   "source": [
    "print('dimensions of a\\t',a.ndim)\n",
    "print('dimensions of b\\t',b.ndim)\n",
    "print('dimensions of c\\t',c.ndim)"
   ]
  },
  {
   "cell_type": "markdown",
   "id": "ee7e29ed-bd33-4848-8b0a-aa9451201d10",
   "metadata": {},
   "source": [
    "2. **shape**:\n",
    "   - Describes the structure of the array in terms of its dimensions. It is represented as a tuple, where each value indicates the size of the array along a particular axis (e.g., rows and columns for a 2D array)."
   ]
  },
  {
   "cell_type": "code",
   "execution_count": 35,
   "id": "f434d95e-a335-42e7-81c6-866b2b6d0467",
   "metadata": {},
   "outputs": [
    {
     "name": "stdout",
     "output_type": "stream",
     "text": [
      "Shape of a\t (10,)\n",
      "Shape of b\t (3, 4)\n",
      "shape of c\t (2, 2, 2)\n"
     ]
    }
   ],
   "source": [
    "print('Shape of a\\t',a.shape)\n",
    "print('Shape of b\\t',b.shape)\n",
    "print('shape of c\\t',c.shape)"
   ]
  },
  {
   "cell_type": "markdown",
   "id": "531bbdc6-eb76-4e69-a120-a88914278d81",
   "metadata": {},
   "source": [
    "\n",
    "3. **size**:\n",
    "   - Indicates the total number of elements present in the array, which is the product of the values in the shape tuple (e.g., number of rows multiplied by the number of columns)."
   ]
  },
  {
   "cell_type": "code",
   "execution_count": 36,
   "id": "1d803728-5158-41d8-baf5-96ea0933ccbf",
   "metadata": {},
   "outputs": [
    {
     "name": "stdout",
     "output_type": "stream",
     "text": [
      "size of a\t 10\n",
      "size of b\t 12\n",
      "size of c\t 8\n"
     ]
    }
   ],
   "source": [
    "print('size of a\\t',a.size)\n",
    "print('size of b\\t',b.size)\n",
    "print('size of c\\t',c.size)"
   ]
  },
  {
   "cell_type": "markdown",
   "id": "66d80918-f572-4e66-b6be-a024c9fbf58f",
   "metadata": {},
   "source": [
    "\n",
    "4. **itemsize**:\n",
    "   - Refers to the memory size (in bytes) of each individual element in the array. The size depends on the data type of the array elements."
   ]
  },
  {
   "cell_type": "code",
   "execution_count": 37,
   "id": "58949ce3-5060-464e-bcd0-6c0af287e265",
   "metadata": {},
   "outputs": [
    {
     "name": "stdout",
     "output_type": "stream",
     "text": [
      "size of a\t 4\n",
      "size of b\t 8\n",
      "size of c\t 4\n"
     ]
    }
   ],
   "source": [
    "print('size of a\\t',a.itemsize)\n",
    "print('size of b\\t',b.itemsize)\n",
    "print('size of c\\t',c.itemsize)"
   ]
  },
  {
   "cell_type": "markdown",
   "id": "e2828699-0a8c-40e3-b480-1049121b22fb",
   "metadata": {},
   "source": [
    "5. **dtype**:\n",
    "   - Specifies the data type of the elements stored in the array, such as integers, floats, or complex numbers. It ensures consistency in the type of data being stored across the array."
   ]
  },
  {
   "cell_type": "code",
   "execution_count": 38,
   "id": "db0f0e51-46e5-4ef1-9210-e658d5ab4f46",
   "metadata": {},
   "outputs": [
    {
     "name": "stdout",
     "output_type": "stream",
     "text": [
      "size of a\t int32\n",
      "size of b\t float64\n",
      "size of c\t int32\n",
      "size of d\t <U16\n"
     ]
    }
   ],
   "source": [
    "print('size of a\\t',a.dtype)\n",
    "print('size of b\\t',b.dtype)\n",
    "print('size of c\\t',c.dtype)\n",
    "print('size of d\\t',np.array('vanshika chauhan').dtype)"
   ]
  },
  {
   "cell_type": "markdown",
   "id": "450bba49-83f1-48dc-96f4-984ab9f8af13",
   "metadata": {},
   "source": [
    "### Changing Data Type with `astype` \n",
    "\n",
    "- **`astype`** is a NumPy method used to change the data type of an array's elements.\n",
    "- It creates a **new array** with the desired data type while leaving the original array unchanged.\n",
    "- Commonly used to ensure consistency of data types across an array, such as converting from **floats to integers**, **integers to strings**, or **integers to floats**."
   ]
  },
  {
   "cell_type": "code",
   "execution_count": 39,
   "id": "945a94bb-13c5-4291-8b24-25e3b2bc5ef1",
   "metadata": {},
   "outputs": [],
   "source": [
    "x = np.arange(10,dtype=float)"
   ]
  },
  {
   "cell_type": "code",
   "execution_count": 40,
   "id": "38349efa-add0-4439-96c9-853cf250fbdb",
   "metadata": {},
   "outputs": [
    {
     "data": {
      "text/plain": [
       "dtype('float64')"
      ]
     },
     "execution_count": 40,
     "metadata": {},
     "output_type": "execute_result"
    }
   ],
   "source": [
    "x.dtype"
   ]
  },
  {
   "cell_type": "code",
   "execution_count": 41,
   "id": "ef9e7ea2-dc49-4d29-b86e-e988be0ff921",
   "metadata": {},
   "outputs": [
    {
     "data": {
      "text/plain": [
       "array([0, 1, 2, 3, 4, 5, 6, 7, 8, 9])"
      ]
     },
     "execution_count": 41,
     "metadata": {},
     "output_type": "execute_result"
    }
   ],
   "source": [
    "x.astype(int) # operation "
   ]
  },
  {
   "cell_type": "code",
   "execution_count": 42,
   "id": "deb464d5-ab61-45ef-abc9-e324b50fbe65",
   "metadata": {},
   "outputs": [],
   "source": [
    "x = x.astype(int)   # transformation"
   ]
  },
  {
   "cell_type": "code",
   "execution_count": 43,
   "id": "2232ae96-e221-4a23-8691-111576e20d31",
   "metadata": {},
   "outputs": [
    {
     "data": {
      "text/plain": [
       "dtype('int32')"
      ]
     },
     "execution_count": 43,
     "metadata": {},
     "output_type": "execute_result"
    }
   ],
   "source": [
    "x.dtype # changing it into int64 "
   ]
  },
  {
   "cell_type": "code",
   "execution_count": 44,
   "id": "862aabfa-b58f-4371-b9ec-aa14edd6ee6c",
   "metadata": {},
   "outputs": [
    {
     "data": {
      "text/plain": [
       "array([0, 1, 2, 3, 4, 5, 6, 7, 8, 9], dtype=int64)"
      ]
     },
     "execution_count": 44,
     "metadata": {},
     "output_type": "execute_result"
    }
   ],
   "source": [
    "x.astype('int64')"
   ]
  },
  {
   "cell_type": "code",
   "execution_count": 45,
   "id": "1b932e93-46fd-4145-bbe8-d1a4e1cb0032",
   "metadata": {},
   "outputs": [
    {
     "name": "stdout",
     "output_type": "stream",
     "text": [
      "-----------------------x--------------------------\n"
     ]
    }
   ],
   "source": [
    "print('-----------------------x--------------------------')"
   ]
  },
  {
   "cell_type": "code",
   "execution_count": 46,
   "id": "b93753d8-fbf3-4de0-a0bd-91c1087bb1b8",
   "metadata": {},
   "outputs": [],
   "source": [
    "# string to int\n",
    "y = np.array(['1','2','3','4','5'])"
   ]
  },
  {
   "cell_type": "code",
   "execution_count": 47,
   "id": "0124963a-d721-4dfb-b0ac-960a41268f05",
   "metadata": {},
   "outputs": [
    {
     "data": {
      "text/plain": [
       "dtype('<U1')"
      ]
     },
     "execution_count": 47,
     "metadata": {},
     "output_type": "execute_result"
    }
   ],
   "source": [
    "y.dtype"
   ]
  },
  {
   "cell_type": "code",
   "execution_count": 48,
   "id": "e4539b6f-3b28-4a21-9a6a-ad177d2fe8da",
   "metadata": {},
   "outputs": [
    {
     "data": {
      "text/plain": [
       "array(['1', '2', '3', '4', '5'], dtype='<U1')"
      ]
     },
     "execution_count": 48,
     "metadata": {},
     "output_type": "execute_result"
    }
   ],
   "source": [
    "y"
   ]
  },
  {
   "cell_type": "code",
   "execution_count": 49,
   "id": "5490bfcb-7ec1-4da6-a94b-ed2846eba983",
   "metadata": {},
   "outputs": [
    {
     "data": {
      "text/plain": [
       "array([1, 2, 3, 4, 5])"
      ]
     },
     "execution_count": 49,
     "metadata": {},
     "output_type": "execute_result"
    }
   ],
   "source": [
    "y.astype(int)"
   ]
  },
  {
   "cell_type": "code",
   "execution_count": 50,
   "id": "0dbabb30-b292-4f0d-9b7b-9b8d4568a808",
   "metadata": {},
   "outputs": [
    {
     "data": {
      "text/plain": [
       "array(['1', '2', '3', '4', '5'], dtype='<U1')"
      ]
     },
     "execution_count": 50,
     "metadata": {},
     "output_type": "execute_result"
    }
   ],
   "source": [
    "y"
   ]
  },
  {
   "cell_type": "markdown",
   "id": "5cc252b7-2d49-4abf-94fa-5a36c8f7d61f",
   "metadata": {},
   "source": [
    "### Array Operations in NumPy:"
   ]
  },
  {
   "cell_type": "code",
   "execution_count": 51,
   "id": "e6930236-8b29-40bd-bb87-59c16c1027ff",
   "metadata": {},
   "outputs": [
    {
     "name": "stdout",
     "output_type": "stream",
     "text": [
      " a\n",
      " [[ 0  1  2  3]\n",
      " [ 4  5  6  7]\n",
      " [ 8  9 10 11]]\n",
      "----------------------------------------------\n",
      " b\n",
      " [[12 13 14 15]\n",
      " [16 17 18 19]\n",
      " [20 21 22 23]]\n"
     ]
    }
   ],
   "source": [
    "# sample arrays \n",
    "a = np.arange(12).reshape(3,4)\n",
    "b = np.arange(12,24).reshape(3,4)\n",
    "\n",
    "print(' a\\n',a)\n",
    "print('----------------------------------------------')\n",
    "print(' b\\n',b)"
   ]
  },
  {
   "cell_type": "markdown",
   "id": "e0dd8115-ca66-4f48-9101-a7ae89f4e132",
   "metadata": {},
   "source": [
    "\n",
    "#### 1. **Scalar Operations**:\n",
    "   - Scalar operations involve performing operations between an array and a single value (scalar).\n",
    "\n",
    "   - **Arithmetic Operations**:\n",
    "     - Operations like addition, subtraction, multiplication, and division can be applied between an array and a scalar.\n",
    "     - The operation is applied to each element of the array.\n",
    "     - Example: Adding 5 to each element of an array.\n",
    "\n",
    "   - **Relational Operations**:\n",
    "     - Relational comparisons (e.g., `<`, `>`, `<=`, `>=`, `==`, `!=`) can be applied between an array and a scalar.\n",
    "     - This returns a new array of boolean values indicating whether each element satisfies the condition."
   ]
  },
  {
   "cell_type": "code",
   "execution_count": 52,
   "id": "8d1096dd-52ef-49d6-bb2b-a4ece166e22a",
   "metadata": {},
   "outputs": [
    {
     "name": "stdout",
     "output_type": "stream",
     "text": [
      "actual\n",
      "[[ 0  1  2  3]\n",
      " [ 4  5  6  7]\n",
      " [ 8  9 10 11]]\n",
      "--------------------------\n",
      "Calculated\n",
      "[[-1  0  1  2]\n",
      " [ 3  4  5  6]\n",
      " [ 7  8  9 10]]\n"
     ]
    }
   ],
   "source": [
    "# subtraction\n",
    "print('actual')\n",
    "print(a)\n",
    "print('--------------------------')\n",
    "print('Calculated')\n",
    "print(a-1) "
   ]
  },
  {
   "cell_type": "code",
   "execution_count": 53,
   "id": "646a3e89-e91e-4112-9b28-e19847e6e2cd",
   "metadata": {},
   "outputs": [
    {
     "name": "stdout",
     "output_type": "stream",
     "text": [
      "actual\n",
      "[[12 13 14 15]\n",
      " [16 17 18 19]\n",
      " [20 21 22 23]]\n",
      "--------------------------\n",
      "Calculated\n",
      "[[22 23 24 25]\n",
      " [26 27 28 29]\n",
      " [30 31 32 33]]\n"
     ]
    }
   ],
   "source": [
    "# addition\n",
    "print('actual')\n",
    "print(b)\n",
    "print('--------------------------')\n",
    "print('Calculated')\n",
    "print(b+10) "
   ]
  },
  {
   "cell_type": "code",
   "execution_count": 54,
   "id": "fedf85c6-b17c-4f2e-8fc1-64875044a063",
   "metadata": {},
   "outputs": [
    {
     "name": "stdout",
     "output_type": "stream",
     "text": [
      "actual\n",
      "[[ 0  1  2  3]\n",
      " [ 4  5  6  7]\n",
      " [ 8  9 10 11]]\n",
      "--------------------------\n",
      "Calculated\n",
      "[[  0  60 120 180]\n",
      " [240 300 360 420]\n",
      " [480 540 600 660]]\n"
     ]
    }
   ],
   "source": [
    "# multiplication\n",
    "print('actual')\n",
    "print(a)\n",
    "print('--------------------------')\n",
    "print('Calculated')\n",
    "print(a*60) "
   ]
  },
  {
   "cell_type": "code",
   "execution_count": 55,
   "id": "43ae9fe4-5d05-4e9a-8aef-26078e93c87b",
   "metadata": {},
   "outputs": [
    {
     "name": "stdout",
     "output_type": "stream",
     "text": [
      "actual\n",
      "[[12 13 14 15]\n",
      " [16 17 18 19]\n",
      " [20 21 22 23]]\n",
      "--------------------------\n",
      "Calculated\n",
      "[[ 6.   6.5  7.   7.5]\n",
      " [ 8.   8.5  9.   9.5]\n",
      " [10.  10.5 11.  11.5]]\n"
     ]
    }
   ],
   "source": [
    "# Division\n",
    "print('actual')\n",
    "print(b)\n",
    "print('--------------------------')\n",
    "print('Calculated')\n",
    "print(b/2) "
   ]
  },
  {
   "cell_type": "markdown",
   "id": "ad6c736a-630a-429c-abdc-baba3484a7ff",
   "metadata": {},
   "source": [
    "#### Relational"
   ]
  },
  {
   "cell_type": "code",
   "execution_count": 56,
   "id": "bc6512ac-b1c9-41f8-95a3-3c329e702d6f",
   "metadata": {},
   "outputs": [
    {
     "name": "stdout",
     "output_type": "stream",
     "text": [
      "actual\n",
      "[[12 13 14 15]\n",
      " [16 17 18 19]\n",
      " [20 21 22 23]]\n",
      "--------------------------\n",
      "Comparision\n",
      "[[0 0 0 0]\n",
      " [1 1 1 1]\n",
      " [1 1 1 1]]\n"
     ]
    }
   ],
   "source": [
    "print('actual')\n",
    "print(b)\n",
    "print('--------------------------')\n",
    "print('Comparision')\n",
    "print((b>15).astype(int))"
   ]
  },
  {
   "cell_type": "code",
   "execution_count": 57,
   "id": "df33d0fc-6ac1-429c-992b-726ee4da6a4e",
   "metadata": {},
   "outputs": [
    {
     "name": "stdout",
     "output_type": "stream",
     "text": [
      "actual\n",
      "[[12 13 14 15]\n",
      " [16 17 18 19]\n",
      " [20 21 22 23]]\n",
      "--------------------------\n",
      "Comparision\n",
      "[[0 0 0 1]\n",
      " [0 0 0 0]\n",
      " [0 0 0 0]]\n"
     ]
    }
   ],
   "source": [
    "print('actual')\n",
    "print(b)\n",
    "print('--------------------------')\n",
    "print('Comparision')\n",
    "print((b==15).astype(int))"
   ]
  },
  {
   "cell_type": "markdown",
   "id": "ff0ed8c8-507d-4d02-a83c-e6360c405c6c",
   "metadata": {},
   "source": [
    "\n",
    "#### 2. **Vector Operations**:\n",
    "   - Vector operations involve performing operations between two arrays.\n",
    "\n",
    "   - **Arithmetic Operations**:\n",
    "     - Element-wise operations, such as addition, subtraction, multiplication, and division, can be performed between two arrays of the same shape.\n",
    "     - The corresponding elements from each array are used in the operation.\n",
    "\n",
    "   - **Relational Operations**:\n",
    "     - Element-wise comparisons can be performed between two arrays of the same shape using relational operators (`<`, `>`, `<=`, `>=`, `==`, `!=`).\n",
    "     - The result is a new array of boolean values, where each element represents whether the condition holds true for the corresponding elements from both arrays.\n"
   ]
  },
  {
   "cell_type": "code",
   "execution_count": 58,
   "id": "c9403771-2f6f-44e9-b88e-3b04c16557c6",
   "metadata": {},
   "outputs": [],
   "source": [
    "# Arithemetic \n",
    "c = a+b"
   ]
  },
  {
   "cell_type": "code",
   "execution_count": 59,
   "id": "56ee2dd2-42e9-443b-bf30-7fcce56cab19",
   "metadata": {},
   "outputs": [
    {
     "data": {
      "text/plain": [
       "array([[12, 14, 16, 18],\n",
       "       [20, 22, 24, 26],\n",
       "       [28, 30, 32, 34]])"
      ]
     },
     "execution_count": 59,
     "metadata": {},
     "output_type": "execute_result"
    }
   ],
   "source": [
    "c"
   ]
  },
  {
   "cell_type": "code",
   "execution_count": 60,
   "id": "852a2cd3-5934-41eb-80a1-7c8deed62801",
   "metadata": {},
   "outputs": [],
   "source": [
    "# Relational\n",
    "c = a>b"
   ]
  },
  {
   "cell_type": "code",
   "execution_count": 61,
   "id": "1fef1d38-3882-4fc0-9e3b-cb6f775d6804",
   "metadata": {},
   "outputs": [
    {
     "data": {
      "text/plain": [
       "array([[False, False, False, False],\n",
       "       [False, False, False, False],\n",
       "       [False, False, False, False]])"
      ]
     },
     "execution_count": 61,
     "metadata": {},
     "output_type": "execute_result"
    }
   ],
   "source": [
    "c"
   ]
  },
  {
   "cell_type": "markdown",
   "id": "beffc1e6-9140-45fe-8c2a-e04310fe08b1",
   "metadata": {},
   "source": [
    "### Mathematical Functions in NumPy:\n",
    "\n",
    "1. **Basic Mathematical Functions**:\n",
    "   - **min**: Returns the minimum value of an array.\n",
    "   - **max**: Returns the maximum value of an array.\n",
    "   - **sum**: Computes the sum of all elements in the array.\n",
    "   - **prod**: Computes the product of all elements in the array."
   ]
  },
  {
   "cell_type": "code",
   "execution_count": 62,
   "id": "85ef819a-0104-4527-b7b9-ac6eda409381",
   "metadata": {},
   "outputs": [
    {
     "name": "stdout",
     "output_type": "stream",
     "text": [
      "random array\n",
      "[[0.36823284 0.79174688 0.89281487]\n",
      " [0.41784217 0.26756703 0.48546632]\n",
      " [0.23066421 0.92459842 0.30244688]]\n",
      "-------------------------------------------\n",
      "after rounding off\n",
      "[[37 79 89]\n",
      " [42 27 49]\n",
      " [23 92 30]]\n"
     ]
    }
   ],
   "source": [
    "# sample array\n",
    "\n",
    "print('random array')\n",
    "a = np.random.random((3,3))\n",
    "print(a)\n",
    "print('-------------------------------------------')\n",
    "print('after rounding off')\n",
    "b = np.round(a*100).astype(int)\n",
    "print(b)"
   ]
  },
  {
   "cell_type": "markdown",
   "id": "3b6bc4b3-7afd-4c08-9dfe-c7203bae04b5",
   "metadata": {},
   "source": [
    "# Axis \n",
    "\n",
    "- axis 0 - > column\n",
    "- axis 1 - > row"
   ]
  },
  {
   "cell_type": "code",
   "execution_count": 63,
   "id": "5958b470-b366-417b-95b2-7de9a60b16e1",
   "metadata": {},
   "outputs": [
    {
     "name": "stdout",
     "output_type": "stream",
     "text": [
      "minimum value\t 23\n",
      "------------------------------------------------\n",
      "axis 0\t [23 27 30]\n",
      "axis 1\t [37 27 23]\n"
     ]
    }
   ],
   "source": [
    "# min\n",
    "\n",
    "print('minimum value\\t',b.min())\n",
    "print('------------------------------------------------')\n",
    "# axis \n",
    "print('axis 0\\t',b.min(axis=0))\n",
    "print('axis 1\\t',b.min(axis=1))"
   ]
  },
  {
   "cell_type": "code",
   "execution_count": 64,
   "id": "293f7306-0993-4595-8257-611f16314847",
   "metadata": {},
   "outputs": [
    {
     "name": "stdout",
     "output_type": "stream",
     "text": [
      "maximum value\t 92\n",
      "------------------------------------------------\n",
      "axis 0\t [42 92 89]\n",
      "axis 1\t [89 49 92]\n"
     ]
    }
   ],
   "source": [
    "# max\n",
    "\n",
    "print('maximum value\\t',b.max())\n",
    "print('------------------------------------------------')\n",
    "# axis \n",
    "print('axis 0\\t',b.max(axis=0))\n",
    "print('axis 1\\t',b.max(axis=1))"
   ]
  },
  {
   "cell_type": "code",
   "execution_count": 65,
   "id": "def5e89f-d3b4-440e-83b9-6edcafa54b35",
   "metadata": {},
   "outputs": [
    {
     "name": "stdout",
     "output_type": "stream",
     "text": [
      "sum of values\t 468\n",
      "------------------------------------------------\n",
      "axis 0\t [102 198 168]\n",
      "axis 1\t [205 118 145]\n"
     ]
    }
   ],
   "source": [
    "# sum\n",
    "\n",
    "print('sum of values\\t',b.sum())\n",
    "print('------------------------------------------------')\n",
    "# axis \n",
    "print('axis 0\\t',b.sum(axis=0))\n",
    "print('axis 1\\t',b.sum(axis=1))"
   ]
  },
  {
   "cell_type": "code",
   "execution_count": 66,
   "id": "fa1af6de-7dc6-4b27-980c-da071ace87ec",
   "metadata": {},
   "outputs": [
    {
     "name": "stdout",
     "output_type": "stream",
     "text": [
      "product of values\t 176505264\n",
      "------------------------------------------------\n",
      "axis 0\t [ 35742 196236 130830]\n",
      "axis 1\t [260147  55566  63480]\n"
     ]
    }
   ],
   "source": [
    "# prod\n",
    "\n",
    "print('product of values\\t',b.prod())\n",
    "print('------------------------------------------------')\n",
    "# axis \n",
    "print('axis 0\\t',b.prod(axis=0))\n",
    "print('axis 1\\t',b.prod(axis=1))"
   ]
  },
  {
   "cell_type": "markdown",
   "id": "accbaa26-87a7-4776-88a1-b0d89ac114ca",
   "metadata": {},
   "source": [
    "2. **Statistical Functions**:\n",
    "   - **mean**: Returns the average (mean) of the array elements.\n",
    "   - **median**: Returns the median (middle value) of the array elements.\n",
    "   - **var**: Computes the variance of the array elements, measuring the spread of data.\n",
    "   - **std**: Returns the standard deviation, which shows how much variation exists from the mean."
   ]
  },
  {
   "cell_type": "code",
   "execution_count": 67,
   "id": "3ea6aab6-0195-4481-b51e-c90adb3afae6",
   "metadata": {},
   "outputs": [
    {
     "name": "stdout",
     "output_type": "stream",
     "text": [
      "mean\t 52.0\n"
     ]
    }
   ],
   "source": [
    "# mean \n",
    "print('mean\\t',np.mean(b))"
   ]
  },
  {
   "cell_type": "code",
   "execution_count": 68,
   "id": "07761120-1a3d-4b46-a3c0-a07b41bc362f",
   "metadata": {},
   "outputs": [
    {
     "name": "stdout",
     "output_type": "stream",
     "text": [
      "median\t 42.0\n"
     ]
    }
   ],
   "source": [
    "# median\n",
    "print('median\\t',np.median(b))"
   ]
  },
  {
   "cell_type": "code",
   "execution_count": 69,
   "id": "0679460f-739f-4c04-a8ce-9aa894abc01e",
   "metadata": {},
   "outputs": [
    {
     "name": "stdout",
     "output_type": "stream",
     "text": [
      "variance\t 664.6666666666666\n"
     ]
    }
   ],
   "source": [
    "# var\n",
    "print('variance\\t',np.var(b))"
   ]
  },
  {
   "cell_type": "code",
   "execution_count": 70,
   "id": "f825b971-5cc0-46be-82a8-2aa431c963c4",
   "metadata": {},
   "outputs": [
    {
     "name": "stdout",
     "output_type": "stream",
     "text": [
      "standard deviation\t 25.78113005022601\n"
     ]
    }
   ],
   "source": [
    "# std\n",
    "print('standard deviation\\t',np.std(b))"
   ]
  },
  {
   "cell_type": "markdown",
   "id": "efc625df-d30b-44a7-999f-d3596c7e2bfd",
   "metadata": {},
   "source": [
    "\n",
    "3. **Trigonometric Functions**:\n",
    "   - NumPy provides various trigonometric functions, such as:\n",
    "     - **np.sin**: Computes the sine of each element.\n",
    "     - **np.cos**: Computes the cosine of each element.\n",
    "     - **np.tan**: Computes the tangent of each element.\n",
    "   - Inverse trigonometric and hyperbolic functions are also available."
   ]
  },
  {
   "cell_type": "code",
   "execution_count": 71,
   "id": "4c5acab8-23f9-4089-9c4f-9d0373849f75",
   "metadata": {},
   "outputs": [
    {
     "data": {
      "text/plain": [
       "array([[-0.64353813, -0.44411267,  0.86006941],\n",
       "       [-0.91652155,  0.95637593, -0.95375265],\n",
       "       [-0.8462204 , -0.77946607, -0.98803162]])"
      ]
     },
     "execution_count": 71,
     "metadata": {},
     "output_type": "execute_result"
    }
   ],
   "source": [
    "# sin\n",
    "np.sin(b)"
   ]
  },
  {
   "cell_type": "code",
   "execution_count": 72,
   "id": "724c5668-4e50-42a6-a128-18a7e3c81a38",
   "metadata": {},
   "outputs": [
    {
     "data": {
      "text/plain": [
       "array([[ 0.76541405, -0.89597095,  0.51017704],\n",
       "       [-0.39998531, -0.29213881,  0.30059254],\n",
       "       [-0.53283302, -0.62644445,  0.15425145]])"
      ]
     },
     "execution_count": 72,
     "metadata": {},
     "output_type": "execute_result"
    }
   ],
   "source": [
    "# cos\n",
    "np.cos(b)"
   ]
  },
  {
   "cell_type": "code",
   "execution_count": 73,
   "id": "40dff45d-6dfa-455b-a5c0-dd06cf0833b6",
   "metadata": {},
   "outputs": [
    {
     "data": {
      "text/plain": [
       "array([[-0.84077126,  0.49567753,  1.68582537],\n",
       "       [ 2.29138799, -3.2737038 , -3.17290855],\n",
       "       [ 1.58815308,  1.24427006, -6.4053312 ]])"
      ]
     },
     "execution_count": 73,
     "metadata": {},
     "output_type": "execute_result"
    }
   ],
   "source": [
    "# tan\n",
    "np.tan(b)"
   ]
  },
  {
   "cell_type": "markdown",
   "id": "a3fcc15f-752a-427c-8db6-074cc177b283",
   "metadata": {},
   "source": [
    "\n",
    "4. **Dot Product**:\n",
    "   - The dot product is a key operation in linear algebra and NumPy.\n",
    "   - **np.dot**: Computes the dot product of two arrays (vectors or matrices). This operation is widely used in matrix multiplication and machine learning.\n"
   ]
  },
  {
   "cell_type": "code",
   "execution_count": 74,
   "id": "1b48d9c5-3475-4f6d-8d94-0a3b89399a1a",
   "metadata": {},
   "outputs": [
    {
     "name": "stdout",
     "output_type": "stream",
     "text": [
      " a\n",
      " [[0 1]\n",
      " [2 3]] \n",
      " b\n",
      " [[4 5]\n",
      " [6 7]]\n"
     ]
    }
   ],
   "source": [
    "# dot product\n",
    "\n",
    "a = np.arange(4).reshape(2,2)\n",
    "b = np.arange(4,8).reshape(2,2)\n",
    "\n",
    "print(' a\\n',a,'\\n','b\\n',b)"
   ]
  },
  {
   "cell_type": "code",
   "execution_count": 75,
   "id": "46487ab0-0e77-4e2f-b01d-7e46cbe9fd2a",
   "metadata": {},
   "outputs": [
    {
     "data": {
      "text/plain": [
       "array([[ 0,  5],\n",
       "       [12, 21]])"
      ]
     },
     "execution_count": 75,
     "metadata": {},
     "output_type": "execute_result"
    }
   ],
   "source": [
    "a*b"
   ]
  },
  {
   "cell_type": "code",
   "execution_count": 76,
   "id": "28fc52b9-2251-4a0c-afee-1218232d7b1c",
   "metadata": {},
   "outputs": [
    {
     "data": {
      "text/plain": [
       "array([[ 6,  7],\n",
       "       [26, 31]])"
      ]
     },
     "execution_count": 76,
     "metadata": {},
     "output_type": "execute_result"
    }
   ],
   "source": [
    "# dot product \n",
    "a.dot(b)"
   ]
  },
  {
   "cell_type": "code",
   "execution_count": 77,
   "id": "142e9b65-1e6c-4a15-8e74-e680680635f6",
   "metadata": {},
   "outputs": [
    {
     "name": "stdout",
     "output_type": "stream",
     "text": [
      " a\n",
      " [[ 0  1  2  3]\n",
      " [ 4  5  6  7]\n",
      " [ 8  9 10 11]] \n",
      " b\n",
      " [[12 13 14]\n",
      " [15 16 17]\n",
      " [18 19 20]\n",
      " [21 22 23]]\n"
     ]
    }
   ],
   "source": [
    "a = np.arange(12).reshape(3,4)\n",
    "b = np.arange(12,24).reshape(4,3)\n",
    "\n",
    "print(' a\\n',a,'\\n','b\\n',b)"
   ]
  },
  {
   "cell_type": "code",
   "execution_count": 78,
   "id": "a798d456-38b1-4e12-988f-59ed18cb200c",
   "metadata": {},
   "outputs": [
    {
     "data": {
      "text/plain": [
       "array([[114, 120, 126],\n",
       "       [378, 400, 422],\n",
       "       [642, 680, 718]])"
      ]
     },
     "execution_count": 78,
     "metadata": {},
     "output_type": "execute_result"
    }
   ],
   "source": [
    "a.dot(b)"
   ]
  },
  {
   "cell_type": "markdown",
   "id": "02dce8ce-d3ce-4839-abc0-c402bcfbd4fd",
   "metadata": {},
   "source": [
    "5. **Logarithmic and Exponential Functions**:\n",
    "   - **np.log**: Computes the natural logarithm (base `e`) of each element in the array.\n",
    "   - **np.log10**: Computes the logarithm with base 10 for each element.\n",
    "   - **np.exp**: Calculates the exponential (e^x) for each element in the array."
   ]
  },
  {
   "cell_type": "code",
   "execution_count": 79,
   "id": "9e7a7a49-1b8c-44a9-aeca-c9a56d0b23ac",
   "metadata": {},
   "outputs": [
    {
     "data": {
      "text/plain": [
       "2.302585092994046"
      ]
     },
     "execution_count": 79,
     "metadata": {},
     "output_type": "execute_result"
    }
   ],
   "source": [
    "# log\n",
    "np.log(10)"
   ]
  },
  {
   "cell_type": "code",
   "execution_count": 80,
   "id": "6e198357-a4c1-4ef2-8cb7-1ca4eaf208cc",
   "metadata": {},
   "outputs": [
    {
     "data": {
      "text/plain": [
       "1.0"
      ]
     },
     "execution_count": 80,
     "metadata": {},
     "output_type": "execute_result"
    }
   ],
   "source": [
    "# log10\n",
    "np.log10(10)"
   ]
  },
  {
   "cell_type": "code",
   "execution_count": 81,
   "id": "cf5f920a-80d7-42f6-9fe1-b10d9b2ba6c3",
   "metadata": {},
   "outputs": [
    {
     "data": {
      "text/plain": [
       "22026.465794806718"
      ]
     },
     "execution_count": 81,
     "metadata": {},
     "output_type": "execute_result"
    }
   ],
   "source": [
    "# exp\n",
    "np.exp(10)"
   ]
  },
  {
   "cell_type": "markdown",
   "id": "d1135695-a9b1-48a9-a47a-1e17208563aa",
   "metadata": {},
   "source": [
    "6. **Rounding Functions**:\n",
    "   - **np.round**: Rounds each element in the array to the nearest integer or specified number of decimals.\n",
    "   - **np.floor**: Rounds each element down to the nearest integer (the largest integer less than or equal to the element).\n",
    "   - **np.ceil**: Rounds each element up to the nearest integer (the smallest integer greater than or equal to the element)."
   ]
  },
  {
   "cell_type": "code",
   "execution_count": 82,
   "id": "8dedfa44-2f64-44af-b543-978126507fac",
   "metadata": {},
   "outputs": [
    {
     "name": "stdout",
     "output_type": "stream",
     "text": [
      "[[37.12075425  8.37422223 57.29448547]\n",
      " [64.66345262 64.89872314 26.98178784]\n",
      " [ 7.54835396  0.99371291 37.80300464]]\n"
     ]
    }
   ],
   "source": [
    "# sample data\n",
    "\n",
    "a = np.random.random(9).reshape(3,3)*100\n",
    "print(a)"
   ]
  },
  {
   "cell_type": "code",
   "execution_count": 83,
   "id": "6d5e62fb-de78-48f8-a9cc-6dd566cc259d",
   "metadata": {},
   "outputs": [
    {
     "data": {
      "text/plain": [
       "array([[37.,  8., 57.],\n",
       "       [65., 65., 27.],\n",
       "       [ 8.,  1., 38.]])"
      ]
     },
     "execution_count": 83,
     "metadata": {},
     "output_type": "execute_result"
    }
   ],
   "source": [
    "# round\n",
    "np.round(a)"
   ]
  },
  {
   "cell_type": "code",
   "execution_count": 84,
   "id": "eec2d7a3-389b-4c6f-9213-c7fe6d504d61",
   "metadata": {},
   "outputs": [
    {
     "data": {
      "text/plain": [
       "array([[37.,  8., 57.],\n",
       "       [64., 64., 26.],\n",
       "       [ 7.,  0., 37.]])"
      ]
     },
     "execution_count": 84,
     "metadata": {},
     "output_type": "execute_result"
    }
   ],
   "source": [
    "# floor \n",
    "np.floor(a)"
   ]
  },
  {
   "cell_type": "code",
   "execution_count": 85,
   "id": "479acabe-9a02-4c99-93a2-3044afdfda29",
   "metadata": {},
   "outputs": [
    {
     "data": {
      "text/plain": [
       "array([[38.,  9., 58.],\n",
       "       [65., 65., 27.],\n",
       "       [ 8.,  1., 38.]])"
      ]
     },
     "execution_count": 85,
     "metadata": {},
     "output_type": "execute_result"
    }
   ],
   "source": [
    "# ceil\n",
    "np.ceil(a)"
   ]
  },
  {
   "cell_type": "markdown",
   "id": "cbaa3623-b25a-40bb-b397-e723613feb1a",
   "metadata": {},
   "source": [
    "### Indexing and Slicing in NumPy\n",
    "\n",
    "#### 1. **Normal Indexing**:\n",
    "   - **Purpose**: Access individual elements of an array by their index.\n",
    "   - **Example**: `array[index]`\n",
    "   - For multi-dimensional arrays, use a tuple of indices separated by commas, like `array[row, column]`."
   ]
  },
  {
   "cell_type": "code",
   "execution_count": 92,
   "id": "fe186b2b-69d0-4712-b4f9-e2ab665b8c48",
   "metadata": {},
   "outputs": [],
   "source": [
    "# sample data \n",
    "\n",
    "a = np.arange(10)\n",
    "b = np.arange(12).reshape(3,4)"
   ]
  },
  {
   "cell_type": "code",
   "execution_count": 95,
   "id": "663565e1-3aa6-4966-b223-55fe4db3635b",
   "metadata": {},
   "outputs": [
    {
     "name": "stdout",
     "output_type": "stream",
     "text": [
      "[0 1 2 3 4 5 6 7 8 9]\n",
      "---------------------------------\n",
      "[[ 0  1  2  3]\n",
      " [ 4  5  6  7]\n",
      " [ 8  9 10 11]]\n"
     ]
    }
   ],
   "source": [
    "print(a)\n",
    "print('---------------------------------')\n",
    "print(b)"
   ]
  },
  {
   "cell_type": "code",
   "execution_count": 98,
   "id": "e82e4998-bf2e-4d3d-b02b-1a1ba3414d02",
   "metadata": {},
   "outputs": [
    {
     "data": {
      "text/plain": [
       "9"
      ]
     },
     "execution_count": 98,
     "metadata": {},
     "output_type": "execute_result"
    }
   ],
   "source": [
    "# 1d \n",
    "# fetiching a value\n",
    "# through negative indexing\n",
    "a[-1]"
   ]
  },
  {
   "cell_type": "code",
   "execution_count": 106,
   "id": "f34f8b44-c850-4e3a-9346-86e031b1c492",
   "metadata": {},
   "outputs": [
    {
     "data": {
      "text/plain": [
       "5"
      ]
     },
     "execution_count": 106,
     "metadata": {},
     "output_type": "execute_result"
    }
   ],
   "source": [
    "# fetching a single value in 2d matrix \n",
    "b[1][1]"
   ]
  },
  {
   "cell_type": "code",
   "execution_count": 112,
   "id": "9cbea37d-5ee9-43cd-b72b-7e1920a3cb35",
   "metadata": {},
   "outputs": [
    {
     "data": {
      "text/plain": [
       "array([ 3,  7, 11])"
      ]
     },
     "execution_count": 112,
     "metadata": {},
     "output_type": "execute_result"
    }
   ],
   "source": [
    "# fetching column \n",
    "b[:,3]"
   ]
  },
  {
   "cell_type": "code",
   "execution_count": 110,
   "id": "bd975752-be68-4aeb-921d-c8960817108f",
   "metadata": {},
   "outputs": [
    {
     "data": {
      "text/plain": [
       "array([[ 0,  1,  2,  3],\n",
       "       [ 4,  5,  6,  7],\n",
       "       [ 8,  9, 10, 11]])"
      ]
     },
     "execution_count": 110,
     "metadata": {},
     "output_type": "execute_result"
    }
   ],
   "source": [
    "b"
   ]
  },
  {
   "cell_type": "markdown",
   "id": "4a437bbc-a702-4ec9-b1a5-aa6589e59390",
   "metadata": {},
   "source": [
    "#### 2. **Fancy Indexing**:\n",
    "   - **Purpose**: Access specific elements using an array of indices.\n",
    "   - **Example**: `array[[index1, index2, ...]]` (for one-dimensional arrays) or `array[[row_indices], [col_indices]]` for multidimensional arrays."
   ]
  },
  {
   "cell_type": "code",
   "execution_count": 114,
   "id": "aaf8ec65-c73d-4c1e-8e40-a852b5142e29",
   "metadata": {},
   "outputs": [
    {
     "name": "stdout",
     "output_type": "stream",
     "text": [
      "[0 1 2 3 4 5 6 7 8 9]\n",
      "[0 4 6 2]\n"
     ]
    }
   ],
   "source": [
    "print(a)\n",
    "print(a[[0,4,6,2]])"
   ]
  },
  {
   "cell_type": "code",
   "execution_count": 115,
   "id": "adf52e74-bb67-46bd-b6db-bfcfa0effc71",
   "metadata": {},
   "outputs": [],
   "source": [
    "# slicing "
   ]
  },
  {
   "cell_type": "code",
   "execution_count": 135,
   "id": "8f27d4ac-38f8-4155-8974-eb1a17497614",
   "metadata": {},
   "outputs": [
    {
     "data": {
      "text/plain": [
       "array([[ 5,  6],\n",
       "       [ 9, 10]])"
      ]
     },
     "execution_count": 135,
     "metadata": {},
     "output_type": "execute_result"
    }
   ],
   "source": [
    "# 2d matrix\n",
    "\n",
    "b[1:,1:3]"
   ]
  },
  {
   "cell_type": "markdown",
   "id": "65c4079d-f225-4d07-aaef-5bf46131082f",
   "metadata": {},
   "source": [
    "\n",
    "#### 3. **Boolean Indexing**:\n",
    "   - **Purpose**: Select elements based on a condition.\n",
    "   - **Example**: `array[condition]` where the condition is a boolean expression, like `array > value`.\n",
    "\n",
    "### Summary:\n",
    "- **Normal Indexing**: Access single elements by their exact position.\n",
    "- **Fancy Indexing**: Access multiple specific elements using arrays of indices.\n",
    "- **Boolean Indexing**: Filter and select elements based on a condition."
   ]
  },
  {
   "cell_type": "code",
   "execution_count": 125,
   "id": "04c8d3f8-7c9c-4736-80ba-32ff06df17db",
   "metadata": {},
   "outputs": [
    {
     "data": {
      "text/plain": [
       "array([[False, False, False, False],\n",
       "       [False, False,  True,  True],\n",
       "       [ True,  True,  True,  True]])"
      ]
     },
     "execution_count": 125,
     "metadata": {},
     "output_type": "execute_result"
    }
   ],
   "source": [
    "b>5"
   ]
  },
  {
   "cell_type": "code",
   "execution_count": 126,
   "id": "bf541456-1f76-4358-bc83-d6ba9b30d88b",
   "metadata": {},
   "outputs": [
    {
     "data": {
      "text/plain": [
       "array([ 6,  7,  8,  9, 10, 11])"
      ]
     },
     "execution_count": 126,
     "metadata": {},
     "output_type": "execute_result"
    }
   ],
   "source": [
    "b[b>5]"
   ]
  },
  {
   "cell_type": "markdown",
   "id": "146dd063-bf24-4534-a28a-b8c262b75088",
   "metadata": {},
   "source": [
    "### Iterating in NumPy Arrays\n",
    "\n",
    "Iterating over NumPy arrays is a common operation, allowing you to access and manipulate each element in the array."
   ]
  },
  {
   "cell_type": "code",
   "execution_count": 136,
   "id": "bdc7eb5c-ccaf-4a6d-b972-7776052701a5",
   "metadata": {},
   "outputs": [],
   "source": [
    "# sample data \n",
    "\n",
    "a = np.arange(10)\n",
    "b = np.arange(12).reshape(3,4)\n",
    "c = np.arange(8).reshape(2,2,2)"
   ]
  },
  {
   "cell_type": "code",
   "execution_count": 137,
   "id": "b3fb5dbd-27bc-412c-8a11-d55d24eddd6d",
   "metadata": {},
   "outputs": [
    {
     "name": "stdout",
     "output_type": "stream",
     "text": [
      "0\n",
      "1\n",
      "2\n",
      "3\n",
      "4\n",
      "5\n",
      "6\n",
      "7\n",
      "8\n",
      "9\n"
     ]
    }
   ],
   "source": [
    "# 1d \n",
    "for i in a:\n",
    "    print(i)"
   ]
  },
  {
   "cell_type": "code",
   "execution_count": 144,
   "id": "e0527cb2-4a64-4f31-8239-34aa169bba39",
   "metadata": {},
   "outputs": [
    {
     "name": "stdout",
     "output_type": "stream",
     "text": [
      "whole row [0 1 2 3]\n",
      "0\n",
      "1\n",
      "2\n",
      "3\n",
      "whole row [4 5 6 7]\n",
      "4\n",
      "5\n",
      "6\n",
      "7\n",
      "whole row [ 8  9 10 11]\n",
      "8\n",
      "9\n",
      "10\n",
      "11\n"
     ]
    }
   ],
   "source": [
    "# 2d\n",
    "for i in b:\n",
    "    print('whole row',i)\n",
    "    for j in i:\n",
    "        print(j)"
   ]
  },
  {
   "cell_type": "code",
   "execution_count": 145,
   "id": "b89d56a4-814b-4ede-b353-2fa2e96b97ae",
   "metadata": {},
   "outputs": [
    {
     "name": "stdout",
     "output_type": "stream",
     "text": [
      "0\n",
      "1\n",
      "2\n",
      "3\n",
      "4\n",
      "5\n",
      "6\n",
      "7\n"
     ]
    }
   ],
   "source": [
    "# 3d \n",
    "\n",
    "for i in c:\n",
    "    for j in i:\n",
    "        for k in j:\n",
    "            print(k)"
   ]
  },
  {
   "cell_type": "markdown",
   "id": "64676122-59d3-44b1-ae3f-4711280ef000",
   "metadata": {},
   "source": [
    "### Reshaping in NumPy\n",
    "\n",
    "1. **`reshape`**:\n",
    "   - The `reshape` function is used to change the shape of a NumPy array without changing its data.\n",
    "   - It allows you to specify new dimensions for the array, as long as the total number of elements remains the same.\n",
    "   - Syntax: `array.reshape(new_shape)`\n",
    "   - Example: If you have an array of shape (6,) and want to reshape it to (2, 3), you can do so with `array.reshape(2, 3)`."
   ]
  },
  {
   "cell_type": "code",
   "execution_count": 150,
   "id": "7b6d35f5-d902-483b-84fb-fd84c0793088",
   "metadata": {},
   "outputs": [
    {
     "name": "stdout",
     "output_type": "stream",
     "text": [
      "[[0 1 2 3 4]\n",
      " [5 6 7 8 9]]\n"
     ]
    }
   ],
   "source": [
    "a = a.reshape(2,5)\n",
    "print(a)"
   ]
  },
  {
   "cell_type": "code",
   "execution_count": 152,
   "id": "889b97b9-bc60-457b-a6fe-54b0b9f9e354",
   "metadata": {},
   "outputs": [
    {
     "data": {
      "text/plain": [
       "array([[ 0,  1,  2,  3,  4,  5],\n",
       "       [ 6,  7,  8,  9, 10, 11]])"
      ]
     },
     "execution_count": 152,
     "metadata": {},
     "output_type": "execute_result"
    }
   ],
   "source": [
    "b.reshape(2,6)"
   ]
  },
  {
   "cell_type": "code",
   "execution_count": 153,
   "id": "4a10c176-f425-4a96-bc43-79c5fca330ef",
   "metadata": {},
   "outputs": [
    {
     "data": {
      "text/plain": [
       "array([[[0, 1, 2, 3],\n",
       "        [4, 5, 6, 7]]])"
      ]
     },
     "execution_count": 153,
     "metadata": {},
     "output_type": "execute_result"
    }
   ],
   "source": [
    "c.reshape(1,2,4)"
   ]
  },
  {
   "cell_type": "markdown",
   "id": "8c3cd05e-9136-439c-9cd9-31bdaa54a8b6",
   "metadata": {},
   "source": [
    "\n",
    "2. **`transpose`**:\n",
    "   - The `transpose` function is used to permute the dimensions of an array.\n",
    "   - It effectively flips the axes of the array, allowing for reorientation of multi-dimensional data.\n",
    "   - For a 2D array, `transpose` swaps rows and columns.\n",
    "   - Syntax: `array.transpose()` or `array.T`\n",
    "   - Example: For a 2D array with shape (2, 3), calling `transpose()` or `array.T` will result in an array of shape (3, 2)."
   ]
  },
  {
   "cell_type": "code",
   "execution_count": 154,
   "id": "2750e236-727b-42a6-9449-9040788576ef",
   "metadata": {},
   "outputs": [
    {
     "data": {
      "text/plain": [
       "array([[0, 5],\n",
       "       [1, 6],\n",
       "       [2, 7],\n",
       "       [3, 8],\n",
       "       [4, 9]])"
      ]
     },
     "execution_count": 154,
     "metadata": {},
     "output_type": "execute_result"
    }
   ],
   "source": [
    "np.transpose(a)"
   ]
  },
  {
   "cell_type": "code",
   "execution_count": 155,
   "id": "7116ae7c-66ff-4410-bf8f-abae0863e9fb",
   "metadata": {},
   "outputs": [
    {
     "data": {
      "text/plain": [
       "array([[0, 5],\n",
       "       [1, 6],\n",
       "       [2, 7],\n",
       "       [3, 8],\n",
       "       [4, 9]])"
      ]
     },
     "execution_count": 155,
     "metadata": {},
     "output_type": "execute_result"
    }
   ],
   "source": [
    "a.transpose()"
   ]
  },
  {
   "cell_type": "code",
   "execution_count": 156,
   "id": "4856801e-100c-441f-a36d-0dbe0ecb815d",
   "metadata": {},
   "outputs": [
    {
     "data": {
      "text/plain": [
       "array([[0, 5],\n",
       "       [1, 6],\n",
       "       [2, 7],\n",
       "       [3, 8],\n",
       "       [4, 9]])"
      ]
     },
     "execution_count": 156,
     "metadata": {},
     "output_type": "execute_result"
    }
   ],
   "source": [
    "a.T"
   ]
  },
  {
   "cell_type": "markdown",
   "id": "a71c0060-e3c7-41e9-ae46-6db9874b804c",
   "metadata": {},
   "source": [
    "\n",
    "3. **`ravel`**:\n",
    "   - The `ravel` function is used to flatten a multi-dimensional array into a one-dimensional array.\n",
    "   - It returns a flattened view of the original array whenever possible, without copying the data.\n",
    "   - Syntax: `array.ravel()`\n",
    "   - Example: If you have a 2D array of shape (2, 3), calling `ravel()` will produce a 1D array with shape (6).\n"
   ]
  },
  {
   "cell_type": "code",
   "execution_count": 158,
   "id": "af7287f4-4a54-46b9-a5a1-7646e7294ab7",
   "metadata": {},
   "outputs": [
    {
     "data": {
      "text/plain": [
       "array([0, 1, 2, 3, 4, 5, 6, 7])"
      ]
     },
     "execution_count": 158,
     "metadata": {},
     "output_type": "execute_result"
    }
   ],
   "source": [
    "# 3d to 1d\n",
    "c.ravel()"
   ]
  },
  {
   "cell_type": "markdown",
   "id": "f70bed1b-2a21-4600-b36f-d45fb8438ca7",
   "metadata": {},
   "source": [
    "### Stacking in NumPy\n",
    "\n",
    "1. **`vstack` (Vertical Stacking)**:\n",
    "   - Combines arrays by stacking them vertically (row-wise), creating a new array where the arrays are placed on top of each other.\n",
    "   - Syntax: `np.vstack((array1, array2, ...))`"
   ]
  },
  {
   "cell_type": "code",
   "execution_count": 160,
   "id": "605e24cb-ba6c-4fd6-b2c4-0043eb952649",
   "metadata": {},
   "outputs": [
    {
     "name": "stdout",
     "output_type": "stream",
     "text": [
      "[[ 0  1  2  3]\n",
      " [ 4  5  6  7]\n",
      " [ 8  9 10 11]]\n",
      "------------------------------------\n",
      "[[12 13 14 15]\n",
      " [16 17 18 19]\n",
      " [20 21 22 23]]\n"
     ]
    }
   ],
   "source": [
    "a = np.arange(12).reshape(3,4)\n",
    "b = np.arange(12,24).reshape(3,4)\n",
    "\n",
    "print(a)\n",
    "print('------------------------------------')\n",
    "print(b)"
   ]
  },
  {
   "cell_type": "code",
   "execution_count": 163,
   "id": "30ec098c-2a48-43a4-9594-db9b9afe0b55",
   "metadata": {},
   "outputs": [
    {
     "name": "stdout",
     "output_type": "stream",
     "text": [
      "[[ 0  1  2  3]\n",
      " [ 4  5  6  7]\n",
      " [ 8  9 10 11]\n",
      " [12 13 14 15]\n",
      " [16 17 18 19]\n",
      " [20 21 22 23]]\n"
     ]
    }
   ],
   "source": [
    "x = np.vstack((a,b))\n",
    "print(x)"
   ]
  },
  {
   "cell_type": "markdown",
   "id": "b3917417-3b66-4a3b-ae1b-e768518585b8",
   "metadata": {},
   "source": [
    "\n",
    "2. **`hstack` (Horizontal Stacking)**:\n",
    "   - Combines arrays by stacking them horizontally (column-wise), creating a new array where arrays are placed side by side.\n",
    "   - Syntax: `np.hstack((array1, array2, ...))`"
   ]
  },
  {
   "cell_type": "code",
   "execution_count": 164,
   "id": "d198075c-d7e8-4484-b6a7-3bd3c8a9f261",
   "metadata": {},
   "outputs": [
    {
     "name": "stdout",
     "output_type": "stream",
     "text": [
      "[[ 0  1  2  3 12 13 14 15]\n",
      " [ 4  5  6  7 16 17 18 19]\n",
      " [ 8  9 10 11 20 21 22 23]]\n"
     ]
    }
   ],
   "source": [
    "y = np.hstack((a,b))\n",
    "print(y)"
   ]
  },
  {
   "cell_type": "markdown",
   "id": "0002635b-9d3c-480f-8c37-2e790eac2ed2",
   "metadata": {},
   "source": [
    "### Splitting in NumPy\n",
    "\n",
    "Splitting in NumPy refers to dividing an array into multiple sub-arrays along a specified axis.\n",
    "\n",
    "1. **`hsplit` (Horizontal Split)**:\n",
    "   - **Purpose**: Splits an array into multiple sub-arrays along the horizontal axis (column-wise).\n",
    "   - **Syntax**: `np.hsplit(array, indices_or_sections)`\n",
    "   - **Usage**: This is used to split an array into multiple parts horizontally."
   ]
  },
  {
   "cell_type": "code",
   "execution_count": 175,
   "id": "2beb7f66-85bc-42e3-ae29-af84e82be0ee",
   "metadata": {},
   "outputs": [
    {
     "name": "stdout",
     "output_type": "stream",
     "text": [
      "[[ 0  1  2  3 12 13 14 15]\n",
      " [ 4  5  6  7 16 17 18 19]\n",
      " [ 8  9 10 11 20 21 22 23]]\n",
      "------------------------------------------\n"
     ]
    },
    {
     "data": {
      "text/plain": [
       "[array([[ 0,  1,  2,  3],\n",
       "        [ 4,  5,  6,  7],\n",
       "        [ 8,  9, 10, 11]]),\n",
       " array([[12, 13, 14, 15],\n",
       "        [16, 17, 18, 19],\n",
       "        [20, 21, 22, 23]])]"
      ]
     },
     "execution_count": 175,
     "metadata": {},
     "output_type": "execute_result"
    }
   ],
   "source": [
    "print(y)\n",
    "print('------------------------------------------')\n",
    "np.hsplit(y,2)"
   ]
  },
  {
   "cell_type": "markdown",
   "id": "d3c4cc23-5b5d-418b-9f1f-bf428c89f8da",
   "metadata": {},
   "source": [
    "\n",
    "2. **`vsplit` (Vertical Split)**:\n",
    "   - **Purpose**: Splits an array into multiple sub-arrays along the vertical axis (row-wise).\n",
    "   - **Syntax**: `np.vsplit(array, indices_or_sections)`\n",
    "   - **Usage**: This is used to split an array into multiple parts vertically.\n",
    "\n",
    "### Summary:\n",
    "- **`hsplit`**: Splits an array horizontally (along columns).\n",
    "- **`vsplit`**: Splits an array vertically (along rows).\n"
   ]
  },
  {
   "cell_type": "code",
   "execution_count": 177,
   "id": "90a39d0c-6cbd-4536-b24e-aeecab12164d",
   "metadata": {},
   "outputs": [
    {
     "name": "stdout",
     "output_type": "stream",
     "text": [
      "[[ 0  1  2  3]\n",
      " [ 4  5  6  7]\n",
      " [ 8  9 10 11]\n",
      " [12 13 14 15]\n",
      " [16 17 18 19]\n",
      " [20 21 22 23]]\n",
      "---------------------------\n"
     ]
    },
    {
     "data": {
      "text/plain": [
       "[array([[ 0,  1,  2,  3],\n",
       "        [ 4,  5,  6,  7],\n",
       "        [ 8,  9, 10, 11]]),\n",
       " array([[12, 13, 14, 15],\n",
       "        [16, 17, 18, 19],\n",
       "        [20, 21, 22, 23]])]"
      ]
     },
     "execution_count": 177,
     "metadata": {},
     "output_type": "execute_result"
    }
   ],
   "source": [
    "print(x)\n",
    "print('---------------------------')\n",
    "np.vsplit(x,2)"
   ]
  },
  {
   "cell_type": "markdown",
   "id": "859a9d7b-9403-4b3e-9b0b-34040d73a685",
   "metadata": {},
   "source": [
    "### Broadcasting in NumPy\n",
    "\n",
    "**Broadcasting** is a powerful mechanism that allows NumPy to perform element-wise operations on arrays of different shapes without needing to create copies or expand the smaller array to the size of the larger one.\n",
    "\n",
    "### Key Concepts:\n",
    "- **Different shapes**: When performing operations (like addition, multiplication) between arrays, they don't need to have the exact same shape.\n",
    "- **Automatic expansion**: NumPy automatically expands the smaller array along the dimensions where necessary to match the shape of the larger array.\n"
   ]
  },
  {
   "cell_type": "code",
   "execution_count": 180,
   "id": "d2bfcaf6-9b37-48e8-8f75-527ddcea534c",
   "metadata": {},
   "outputs": [
    {
     "data": {
      "text/plain": [
       "array([[12, 14, 16, 18],\n",
       "       [20, 22, 24, 26],\n",
       "       [28, 30, 32, 34]])"
      ]
     },
     "execution_count": 180,
     "metadata": {},
     "output_type": "execute_result"
    }
   ],
   "source": [
    "# same shape\n",
    "\n",
    "a+b"
   ]
  },
  {
   "cell_type": "code",
   "execution_count": 185,
   "id": "d5a05838-324b-4645-ae56-04cffdd36145",
   "metadata": {},
   "outputs": [
    {
     "name": "stdout",
     "output_type": "stream",
     "text": [
      "[[0]\n",
      " [1]\n",
      " [2]]\n"
     ]
    }
   ],
   "source": [
    "# different shape\n",
    "\n",
    "c = np.arange(3).reshape(3,1)\n",
    "print(c)"
   ]
  },
  {
   "cell_type": "code",
   "execution_count": 187,
   "id": "0bf94f23-0362-4067-9d4e-6a01c8c67f46",
   "metadata": {},
   "outputs": [
    {
     "name": "stdout",
     "output_type": "stream",
     "text": [
      "[[ 0  1  2  3]\n",
      " [ 4  5  6  7]\n",
      " [ 8  9 10 11]]\n"
     ]
    }
   ],
   "source": [
    "print(a)"
   ]
  },
  {
   "cell_type": "code",
   "execution_count": 189,
   "id": "c5577437-49cf-40e5-8d96-041134716b82",
   "metadata": {},
   "outputs": [
    {
     "name": "stdout",
     "output_type": "stream",
     "text": [
      "[[ 0  1  2  3]\n",
      " [ 5  6  7  8]\n",
      " [10 11 12 13]]\n"
     ]
    }
   ],
   "source": [
    "print(a+c)"
   ]
  },
  {
   "cell_type": "markdown",
   "id": "768b4713-8c4b-49b4-b538-01b1d9ff5dd9",
   "metadata": {},
   "source": [
    "### Rules of Broadcasting\n",
    "\n",
    "Broadcasting in NumPy lets you perform operations on arrays with different shapes by \"stretching\" the smaller array without actually copying data.\n",
    "\n",
    "Here are the basic rules:\n",
    "\n",
    "1. **Match from the end**: NumPy compares the shapes of the two arrays starting from the last dimension (right to left).\n",
    "  \n",
    "2. **Same size or 1**: Two dimensions are compatible if:\n",
    "   - They are the same size, or\n",
    "   - One of them is 1 (it will be \"stretched\" to match the other).\n",
    "\n",
    "3. **Missing dimensions**: If one array has fewer dimensions, NumPy will automatically add extra dimensions of size 1 at the front so it can match the larger array.\n",
    "\n",
    "### Example:\n",
    "- **Array shapes: (4, 3)** and **(3)**\n",
    "  - NumPy stretches the second array `(3)` to `(1, 3)` and then to `(4, 3)` for the operation.\n",
    "  \n",
    "### Summary:\n",
    "- **Dimensions must match** or **one must be 1**.\n",
    "- **Smaller arrays** can be stretched to match the larger array's shape.\n",
    "\n",
    "This allows you to work with arrays of different sizes easily without reshaping them manually."
   ]
  },
  {
   "attachments": {
    "00473268-4531-4c2d-8987-382de73e3607.png": {
     "image/png": "[encoded data removed]"
    }
   },
   "cell_type": "markdown",
   "id": "c4a074af-4697-43ba-ba1c-796ee0755d2b",
   "metadata": {},
   "source": [
    "![image.png](attachment:00473268-4531-4c2d-8987-382de73e3607.png)\n",
    "\n"
   ]
  },
  {
   "cell_type": "markdown",
   "id": "68c6cc19-0c97-4e02-b5b3-dfd8a579bbf6",
   "metadata": {},
   "source": [
    "### Working with missing values (NaN, which stands for \"Not a Number\") in NumPy involves specific methods and functions. Here are some important points to help you understand:\n",
    "\n",
    "### 1. Representation of Missing Values\n",
    "- In NumPy, missing values are represented using `np.nan`. \n",
    "- You can use it in any numeric array."
   ]
  },
  {
   "cell_type": "code",
   "execution_count": 193,
   "id": "b01f5433-efb0-435f-8a25-44187847e38e",
   "metadata": {},
   "outputs": [],
   "source": [
    "a = np.array([1,2,3,4,np.nan,4])"
   ]
  },
  {
   "cell_type": "markdown",
   "id": "f838c3e7-57dc-49be-9ca0-4f9891ac09e7",
   "metadata": {},
   "source": [
    "### 2. Identifying Missing Values\n",
    "- You can check if an array contains any NaN values using the `np.isnan()` function.\n",
    "  \n",
    "  ```python\n",
    "  import numpy as np\n",
    "\n",
    "  arr = np.array([1, 2, np.nan, 4])\n",
    "  missing = np.isnan(arr)  # This will give a boolean array\n",
    "  print(missing)  # Output: [False False  True False]\n",
    "  ```"
   ]
  },
  {
   "cell_type": "code",
   "execution_count": 194,
   "id": "960c557c-4c91-4bed-a9e3-9a20c88d715d",
   "metadata": {},
   "outputs": [
    {
     "data": {
      "text/plain": [
       "array([ 1.,  2.,  3.,  4., nan,  4.])"
      ]
     },
     "execution_count": 194,
     "metadata": {},
     "output_type": "execute_result"
    }
   ],
   "source": [
    "a"
   ]
  },
  {
   "cell_type": "code",
   "execution_count": 198,
   "id": "db759d6c-510b-4afa-be52-a08723047c85",
   "metadata": {},
   "outputs": [
    {
     "data": {
      "text/plain": [
       "1"
      ]
     },
     "execution_count": 198,
     "metadata": {},
     "output_type": "execute_result"
    }
   ],
   "source": [
    "np.isnan(a).sum()"
   ]
  },
  {
   "cell_type": "markdown",
   "id": "7300175d-421a-4a27-a556-e22abfe978ef",
   "metadata": {},
   "source": [
    "\n",
    "### 3. Dropping Missing Values\n",
    "- If you want to remove NaN values, you can use boolean indexing with `np.isnan()`:\n",
    "\n",
    "  ```python\n",
    "  arr_no_nan = arr[~np.isnan(arr)]  # Remove NaN values\n",
    "  print(arr_no_nan)  # Output: [1. 2. 4.]\n",
    "  ```"
   ]
  },
  {
   "cell_type": "code",
   "execution_count": 207,
   "id": "7e533c40-b43d-41d3-ad64-c7ccfb6fb747",
   "metadata": {},
   "outputs": [
    {
     "name": "stdout",
     "output_type": "stream",
     "text": [
      "[1. 2. 3. 4. 4.]\n",
      "--------------------------------\n",
      "[ 1.  2.  3.  4. nan  4.]\n"
     ]
    }
   ],
   "source": [
    "print(a[~np.isnan(a)])\n",
    "print('--------------------------------')\n",
    "print(a)"
   ]
  },
  {
   "cell_type": "markdown",
   "id": "8fa9d3ca-f715-4d81-89d2-5466cc908110",
   "metadata": {},
   "source": [
    "\n",
    "### 4. Replacing Missing Values\n",
    "- You can replace missing values with a specific value using `np.nan_to_num()`:\n",
    "\n",
    "  ```python\n",
    "  arr_filled = np.nan_to_num(arr, nan=0)  # Replace NaN with 0\n",
    "  print(arr_filled)  # Output: [1. 2. 0. 4.]\n",
    "  ```\n"
   ]
  },
  {
   "cell_type": "code",
   "execution_count": 208,
   "id": "64db3ab1-60f8-4238-b76f-d4e6b134d553",
   "metadata": {},
   "outputs": [
    {
     "data": {
      "text/plain": [
       "array([ 1.,  2.,  3.,  4., 10.,  4.])"
      ]
     },
     "execution_count": 208,
     "metadata": {},
     "output_type": "execute_result"
    }
   ],
   "source": [
    "np.nan_to_num(a,nan=10)"
   ]
  },
  {
   "cell_type": "markdown",
   "id": "ca1ded1b-4e59-4c9b-99dc-9f9b5b6e6b55",
   "metadata": {},
   "source": [
    "\n",
    "### 5. Calculating Statistics with Missing Values\n",
    "- When calculating statistics, you need to be aware that NaN values can affect your calculations. \n",
    "- You can use functions like `np.nansum()`, `np.nanmean()`, `np.nanstd()`, etc., which ignore NaN values.\n",
    "\n",
    "  ```python\n",
    "  mean_value = np.nanmean(arr)  # Calculates mean while ignoring NaN values\n",
    "  print(mean_value)  # Output: 2.333...\n",
    "  ```"
   ]
  },
  {
   "cell_type": "code",
   "execution_count": 215,
   "id": "315d2724-254a-4a98-af1a-9b2a5baaf08c",
   "metadata": {},
   "outputs": [
    {
     "name": "stdout",
     "output_type": "stream",
     "text": [
      "2.8\n",
      "14.0\n",
      "1.16619037896906\n"
     ]
    }
   ],
   "source": [
    "print(np.nanmean(a))\n",
    "print(np.nansum(a))\n",
    "print(np.nanstd(a))"
   ]
  },
  {
   "cell_type": "markdown",
   "id": "60fca701-3270-4925-89fc-46bac89ccf00",
   "metadata": {},
   "source": [
    "### Summary\n",
    "- Use `np.nan` to represent NaN.\n",
    "- For **Identifying**, use `np.isnan()`, for **Dropping**, use boolean indexing, and for **Replacing**, use `np.nan_to_num()`.\n",
    "- Use functions that ignore NaN values when calculating **Statistics**.\n"
   ]
  },
  {
   "cell_type": "markdown",
   "id": "c6fe7b60-986e-44fb-86f0-709bf9acb184",
   "metadata": {},
   "source": [
    "# Plotting graphs "
   ]
  },
  {
   "cell_type": "markdown",
   "id": "4f36f218-a182-4323-af5a-4f11a5b4d40d",
   "metadata": {},
   "source": [
    "### Common Graphs and Their Functions\n",
    "\n",
    "1. **Linear Function: \\( y = x \\)**\n",
    "   - **Description:** Represents a straight line through the origin with a slope of 1.\n",
    "   - **Usage:** Models relationships that are proportional or linear in nature, such as direct relationships in economics or physics."
   ]
  },
  {
   "cell_type": "code",
   "execution_count": 230,
   "id": "36deb520-ce7e-42ec-b25c-6ce68ae77274",
   "metadata": {},
   "outputs": [
    {
     "data": {
      "image/png": "[encoded data removed]",
      "text/plain": [
       "<Figure size 640x480 with 1 Axes>"
      ]
     },
     "metadata": {},
     "output_type": "display_data"
    }
   ],
   "source": [
    "import matplotlib.pyplot as plt \n",
    "x = np.linspace(-10,10,20)\n",
    "y = x\n",
    "plt.plot(x,y)\n",
    "plt.grid()\n",
    "plt.show()"
   ]
  },
  {
   "cell_type": "markdown",
   "id": "95eb18df-3b97-439e-a9df-dc37b5bf4075",
   "metadata": {},
   "source": [
    "\n",
    "2. **Quadratic Function: \\( y = x^2 \\)**\n",
    "   - **Description:** Represents a parabolic curve opening upwards.\n",
    "   - **Usage:** Useful for modeling scenarios involving acceleration, area, or optimization problems. It shows how the output increases at an increasing rate as \\( x \\) moves away from zero."
   ]
  },
  {
   "cell_type": "code",
   "execution_count": 229,
   "id": "50c2d124-79d1-4dc2-8a9e-00232c73360c",
   "metadata": {},
   "outputs": [
    {
     "data": {
      "image/png": "[encoded data removed]",
      "text/plain": [
       "<Figure size 640x480 with 1 Axes>"
      ]
     },
     "metadata": {},
     "output_type": "display_data"
    }
   ],
   "source": [
    "y = x**2\n",
    "\n",
    "plt.plot(x,y)\n",
    "plt.grid()\n",
    "plt.show()"
   ]
  },
  {
   "cell_type": "markdown",
   "id": "6980dd74-edf8-4993-8e17-7f74279a1f86",
   "metadata": {},
   "source": [
    "\n",
    "3. **Sine Function: \\( y = \\sin(x) \\)**\n",
    "   - **Description:** A periodic wave that oscillates between -1 and 1.\n",
    "   - **Usage:** Commonly used in physics and engineering to model waveforms, oscillations, and cyclic behaviors, such as sound waves and light waves.\n"
   ]
  },
  {
   "cell_type": "code",
   "execution_count": 228,
   "id": "b8552f87-c6d3-4fb8-8bbc-04f9097cfe91",
   "metadata": {},
   "outputs": [
    {
     "data": {
      "image/png": "[encoded data removed]",
      "text/plain": [
       "<Figure size 640x480 with 1 Axes>"
      ]
     },
     "metadata": {},
     "output_type": "display_data"
    }
   ],
   "source": [
    "x = np.linspace(0,3.15,100)\n",
    "y = np.sin(x)\n",
    "plt.plot(x,y)\n",
    "plt.grid()\n",
    "plt.show()"
   ]
  },
  {
   "cell_type": "markdown",
   "id": "0ed212d1-df2f-4c41-99d3-e269366eec98",
   "metadata": {},
   "source": [
    "\n",
    "4. **Logarithmic Function: \\( y = x \\log(x) \\)**\n",
    "   - **Description:** A combination of linear and logarithmic growth. For \\( x > 0 \\), it increases slowly initially but grows faster as \\( x \\) increases.\n",
    "   - **Usage:** Frequently found in computational complexity, information theory, and scenarios where growth slows down, like population growth in limited environments.\n"
   ]
  },
  {
   "cell_type": "code",
   "execution_count": 237,
   "id": "40a0f56b-2278-40de-9a72-2c19f4f52378",
   "metadata": {},
   "outputs": [
    {
     "data": {
      "image/png": "[encoded data removed]",
      "text/plain": [
       "<Figure size 640x480 with 1 Axes>"
      ]
     },
     "metadata": {},
     "output_type": "display_data"
    }
   ],
   "source": [
    "import warnings \n",
    "warnings.filterwarnings('ignore')\n",
    "x = np.linspace(-10,10,100)\n",
    "y = np.log(x)\n",
    "plt.plot(x,y)\n",
    "plt.grid()\n",
    "plt.show()"
   ]
  },
  {
   "cell_type": "markdown",
   "id": "9e79017f-94c8-46d2-b482-e6f4ca7da14e",
   "metadata": {},
   "source": [
    "\n",
    "5. **Sigmoid Function:**\n",
    "   - **Description:** A smooth, S-shaped curve defined by the formula \\( y = \\frac{1}{1 + e^{-x}} \\).\n",
    "   - **Usage:** Widely used in statistics and machine learning, particularly in logistic regression and neural networks, to model probabilities that are constrained between 0 and 1.\n"
   ]
  },
  {
   "cell_type": "code",
   "execution_count": 235,
   "id": "b8e16ed8-f388-4910-aef8-0330e5c8ebaa",
   "metadata": {},
   "outputs": [
    {
     "data": {
      "image/png": "[encoded data removed]",
      "text/plain": [
       "<Figure size 640x480 with 1 Axes>"
      ]
     },
     "metadata": {},
     "output_type": "display_data"
    }
   ],
   "source": [
    "x = np.linspace(-10,10,100)\n",
    "y = (1/(1+np.exp((-x))))\n",
    "plt.plot(x,y)\n",
    "plt.grid()\n",
    "plt.show()"
   ]
  },
  {
   "cell_type": "code",
   "execution_count": null,
   "id": "afa8138b-6d0f-4740-9ba4-33fb019ce893",
   "metadata": {},
   "outputs": [],
   "source": []
  }
 ],
 "metadata": {
  "kernelspec": {
   "display_name": "Python 3 (ipykernel)",
   "language": "python",
   "name": "python3"
  },
  "language_info": {
   "codemirror_mode": {
    "name": "ipython",
    "version": 3
   },
   "file_extension": ".py",
   "mimetype": "text/x-python",
   "name": "python",
   "nbconvert_exporter": "python",
   "pygments_lexer": "ipython3",
   "version": "3.11.7"
  }
 },
 "nbformat": 4,
 "nbformat_minor": 5
}
