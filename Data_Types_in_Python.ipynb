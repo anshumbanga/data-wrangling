{
 "cells": [
  {
   "cell_type": "markdown",
   "id": "17bc1bf6-f6ad-4960-879e-7733aa94732b",
   "metadata": {},
   "source": [
    "In Python, data types are classified as **mutable** or **immutable** based on whether their values can be changed after they are created.\n",
    "\n",
    "### **Mutable Data Types**\n",
    "- Mutable objects can have their values modified after they are created.\n",
    "- Modifications can include adding, removing, or changing elements.\n",
    "  \n",
    "**Examples of Mutable Data Types**:\n",
    "\n",
    "- **Lists**: You can modify, add, or remove elements.\n",
    "    ```python\n",
    "    my_list = [1, 2, 3]\n",
    "    my_list.append(4)  # Now, my_list is [1, 2, 3, 4]\n",
    "    ```\n",
    "- **Dictionaries**: You can change values or add/remove key-value pairs.\n",
    "    ```python\n",
    "    my_dict = {\"a\": 1, \"b\": 2}\n",
    "    my_dict[\"c\"] = 3  # Now, my_dict is {'a': 1, 'b': 2, 'c': 3}\n",
    "    ```\n",
    "- **Sets**: You can add or remove elements.\n",
    "    ```python\n",
    "    my_set = {1, 2, 3}\n",
    "    my_set.add(4)  # Now, my_set is {1, 2, 3, 4}\n",
    "    ```\n",
    "\n",
    "---\n",
    "\n",
    "### **Immutable Data Types**\n",
    "- Immutable objects cannot have their values changed after they are created.\n",
    "- Any operation that seems to modify an immutable object creates a new object instead.\n",
    "\n",
    "**Examples of Immutable Data Types**:\n",
    "\n",
    "- **Strings**: You cannot change a string directly.\n",
    "    ```python\n",
    "    my_string = \"hello\"\n",
    "    my_string = \"Hello\"  # This creates a new string\n",
    "    ```\n",
    "- **Tuples**: You cannot change the elements of a tuple.\n",
    "    ```python\n",
    "    my_tuple = (1, 2, 3)\n",
    "    my_tuple[0] = 0  # This will raise an error\n",
    "    ```\n",
    "- **Integers, Floats, Booleans**: These are immutable; operations create new objects.\n",
    "    ```python\n",
    "    x = 10\n",
    "    x += 1  # This creates a new object with value 11\n",
    "    ```\n",
    "---\n",
    "\n",
    "### **Key Differences**\n",
    "\n",
    "| **Aspect**       | **Mutable**       | **Immutable**      |\n",
    "|-------------------|-------------------|--------------------|\n",
    "| **Can be Changed**| Yes               | No                 |\n",
    "| **Examples**      | List, Dictionary, Set | String, Tuple, Integer |\n",
    "| **Memory Usage**  | May change in-place | Creates new object |\n"
   ]
  },
  {
   "cell_type": "code",
   "execution_count": 1,
   "id": "bb1f6e58-4ac5-4f63-92e6-2ce69429f558",
   "metadata": {},
   "outputs": [
    {
     "name": "stdout",
     "output_type": "stream",
     "text": [
      "value\t 10\n",
      "id\t 140710031443016\n"
     ]
    }
   ],
   "source": [
    "# difference between mutable and immutable \n",
    "# int\n",
    "a = 10\n",
    "print('value\\t',a)\n",
    "print('id\\t',id(a))"
   ]
  },
  {
   "cell_type": "code",
   "execution_count": 2,
   "id": "d3df150e-4fd7-42f3-9446-7e83fdfd4689",
   "metadata": {},
   "outputs": [
    {
     "name": "stdout",
     "output_type": "stream",
     "text": [
      "value\t 15\n",
      "id\t 140710031443176\n"
     ]
    }
   ],
   "source": [
    "# int after modification\n",
    "a = 15\n",
    "print('value\\t',a)\n",
    "print('id\\t',id(a))"
   ]
  },
  {
   "cell_type": "code",
   "execution_count": 3,
   "id": "79f1dab2-b5fd-4d93-909c-03607e235714",
   "metadata": {},
   "outputs": [
    {
     "name": "stdout",
     "output_type": "stream",
     "text": [
      "value\t [1, 2, 3]\n",
      "id\t 2434697508608\n"
     ]
    }
   ],
   "source": [
    "# list\n",
    "a = [1,2,3]\n",
    "print('value\\t',a)\n",
    "print('id\\t',id(a))"
   ]
  },
  {
   "cell_type": "code",
   "execution_count": 4,
   "id": "038eb744-5d0d-49f8-b2d5-f6652fc36fe3",
   "metadata": {},
   "outputs": [
    {
     "name": "stdout",
     "output_type": "stream",
     "text": [
      "value\t [1, 2, 3, 4]\n",
      "id\t 2434697508608\n"
     ]
    }
   ],
   "source": [
    "# list after modification\n",
    "a.append(4)\n",
    "print('value\\t',a)\n",
    "print('id\\t',id(a))"
   ]
  },
  {
   "cell_type": "markdown",
   "id": "457d2b38-be9b-43ef-b2fc-38074cb85d1b",
   "metadata": {},
   "source": [
    "### **Properties of Strings in Python**\r\n",
    "\r\n",
    "1. **Ordered**: Strings maintain the sequence of characters.  \r\n",
    "2. **Immutable**: Cannot be modified after creation; operations create new strings.  \r\n",
    "3. **Indexed**: Support zero-based and negative indexing for character access.  \r\n",
    "4. **Allow Duplicates**: Characters can repeat in a string.  \r\n",
    "5. **Iterable**: Can be traversed using loops.  \r\n",
    "6. **Heterogeneous Characters**: Can include letters, numbers, symbols, and spaces.  \r\n",
    "7. **Dynamic Length**: Can store strings of any length within memory limits.  \r\n",
    "8. **Built-in Methods**: Provide methods like `upper()`, `lower()`, `strip()`, `split()`, `join()`, etc.  \r\n",
    "9. **Concatenation and Repetition**: Use `+` for joining and `*` for repetition.  \r\n",
    "    ```python\r\n",
    "    s1 = \"Hello\"\r\n",
    "    s2 = s1 * 3  # Output: \"HelloHelloHello\"\r\n",
    "    ```\r\n",
    "10. **Objects**: Strings are Python objects with methods for manipulation.  \r\n",
    "\r\n",
    "Strings are versatile and widely used for text processing!"
   ]
  },
  {
   "cell_type": "code",
   "execution_count": 5,
   "id": "d2a0d0cb-b1c6-45af-93b3-8d6740818ca8",
   "metadata": {},
   "outputs": [
    {
     "name": "stdout",
     "output_type": "stream",
     "text": [
      "str1\t hello world\n",
      "str2\t 123456789\n",
      "str3\t A programming language, which comes with the ability to model the real 'world, is considered object-oriented. \n",
      "It concentrates on objects and merges functions and data. Python has object-oriented features. \n",
      "Class mechanism of Python adds classes with a minimum number of new semantics and syntax.\n"
     ]
    }
   ],
   "source": [
    "str1 = 'hello world'\n",
    "str2 = '123456789'\n",
    "str3 = '''A programming language, which comes with the ability to model the real 'world, is considered object-oriented. \n",
    "It concentrates on objects and merges functions and data. Python has object-oriented features. \n",
    "Class mechanism of Python adds classes with a minimum number of new semantics and syntax.'''\n",
    "\n",
    "print('str1\\t',str1)\n",
    "print('str2\\t',str2)\n",
    "print('str3\\t',str3)"
   ]
  },
  {
   "cell_type": "markdown",
   "id": "59ffea47-a6de-44e9-8a7e-dd31aadac1b7",
   "metadata": {},
   "source": [
    "# String Methods\n",
    "- upper() : Converts a string into upper case"
   ]
  },
  {
   "cell_type": "code",
   "execution_count": 6,
   "id": "50250871-4f6f-4bff-a37e-cfdd963f3596",
   "metadata": {},
   "outputs": [
    {
     "data": {
      "text/plain": [
       "'HI THIS SIDE ANSHUM BANGA'"
      ]
     },
     "execution_count": 6,
     "metadata": {},
     "output_type": "execute_result"
    }
   ],
   "source": [
    "a = 'hi this side anshum banga'\n",
    "a.upper()"
   ]
  },
  {
   "cell_type": "markdown",
   "id": "e90e3721-aa11-4fd2-99a1-2cad4bbfc739",
   "metadata": {},
   "source": [
    "- lower(): Converts a string into lower case"
   ]
  },
  {
   "cell_type": "code",
   "execution_count": 7,
   "id": "c74210ff-ea85-4a94-aec9-f041195f32fa",
   "metadata": {},
   "outputs": [
    {
     "data": {
      "text/plain": [
       "'hi this side anshum banga'"
      ]
     },
     "execution_count": 7,
     "metadata": {},
     "output_type": "execute_result"
    }
   ],
   "source": [
    "a = 'HI THIS SIDE ANSHUM BANGA'\n",
    "a.lower()"
   ]
  },
  {
   "cell_type": "markdown",
   "id": "b1f911cc-dcd9-4099-b33c-cca3cca38d41",
   "metadata": {},
   "source": [
    "- swapcase(): Swaps cases, lower case becomes upper case and vice versa"
   ]
  },
  {
   "cell_type": "code",
   "execution_count": 8,
   "id": "4bbfc425-3f38-424d-9e8d-7464cd4a82c6",
   "metadata": {},
   "outputs": [
    {
     "data": {
      "text/plain": [
       "'Hi this side Anshum Banga. How can I help you today ?'"
      ]
     },
     "execution_count": 8,
     "metadata": {},
     "output_type": "execute_result"
    }
   ],
   "source": [
    "a = 'hI THIS SIDE aNSHUM bANGA. hOW CAN i HELP YOU TODAY ?'\n",
    "a.swapcase()"
   ]
  },
  {
   "cell_type": "markdown",
   "id": "f41108fd-697c-4681-99de-e60c6b9b7210",
   "metadata": {},
   "source": [
    "- strip(): Returns a trimmed version of the string"
   ]
  },
  {
   "cell_type": "code",
   "execution_count": 9,
   "id": "68754fe4-b985-4c46-9b6f-c7412f8bdf14",
   "metadata": {},
   "outputs": [
    {
     "data": {
      "text/plain": [
       "'anshum'"
      ]
     },
     "execution_count": 9,
     "metadata": {},
     "output_type": "execute_result"
    }
   ],
   "source": [
    "a = '!!anshum!!!!'\n",
    "a.strip('!')"
   ]
  },
  {
   "cell_type": "markdown",
   "id": "df10e96f-9662-4eba-8cda-b6f6993abe49",
   "metadata": {},
   "source": [
    "- lstrip(): Returns a left trim version of the string\n",
    "- rstrip(): Returns a right trim version of the string"
   ]
  },
  {
   "cell_type": "code",
   "execution_count": 10,
   "id": "3b8a7bc8-91f0-42b6-8db7-7a020980a524",
   "metadata": {},
   "outputs": [
    {
     "name": "stdout",
     "output_type": "stream",
     "text": [
      "--------------------------------------------------\n",
      "with lstrip\t anshum!!!!\n",
      "with rstrip\t !!anshum\n"
     ]
    }
   ],
   "source": [
    "a = '!!anshum!!!!'\n",
    "print('-'*50)\n",
    "print('with lstrip\\t',a.lstrip('!'))\n",
    "print('with rstrip\\t',a.rstrip('!'))"
   ]
  },
  {
   "cell_type": "markdown",
   "id": "6dcf356e-24c0-438c-8663-5088fb4836f2",
   "metadata": {},
   "source": [
    "- split(): Splits the string at the specified separator, and returns a list"
   ]
  },
  {
   "cell_type": "code",
   "execution_count": 11,
   "id": "5f4f6f45-c4fc-49c9-a050-852df1dcdd53",
   "metadata": {},
   "outputs": [
    {
     "name": "stdout",
     "output_type": "stream",
     "text": [
      "incase of space\n",
      "['anshum', 'banga']\n",
      "--------------------------------------------------\n",
      "incase of other delimeters\n",
      "['anshum', 'banga']\n"
     ]
    }
   ],
   "source": [
    "# incase of space \n",
    "print('incase of space')\n",
    "a = 'anshum banga'\n",
    "print(a.split())\n",
    "print('-'*50)\n",
    "# incase of other delimeters \n",
    "print('incase of other delimeters')\n",
    "a = 'anshum,banga'\n",
    "print(a.split(','))"
   ]
  },
  {
   "cell_type": "markdown",
   "id": "a76b6762-e9a3-4bc1-8c8d-586be28401cd",
   "metadata": {},
   "source": [
    "- capitalize(): Converts the first character to upper case"
   ]
  },
  {
   "cell_type": "code",
   "execution_count": 12,
   "id": "a965923d-930f-4f69-ac83-2df25d4d576a",
   "metadata": {},
   "outputs": [
    {
     "data": {
      "text/plain": [
       "'Welcome to data science'"
      ]
     },
     "execution_count": 12,
     "metadata": {},
     "output_type": "execute_result"
    }
   ],
   "source": [
    "a = 'welcome to data science'\n",
    "a.capitalize()"
   ]
  },
  {
   "cell_type": "markdown",
   "id": "b4eaa023-1812-4441-a163-ab2d31f4f4f4",
   "metadata": {},
   "source": [
    "- title(): Converts the first character of each word to upper case"
   ]
  },
  {
   "cell_type": "code",
   "execution_count": 13,
   "id": "c41aa536-b0d7-48b3-ac96-0116807e9a99",
   "metadata": {},
   "outputs": [
    {
     "data": {
      "text/plain": [
       "'Welcome To Data Science'"
      ]
     },
     "execution_count": 13,
     "metadata": {},
     "output_type": "execute_result"
    }
   ],
   "source": [
    "a.title()"
   ]
  },
  {
   "cell_type": "code",
   "execution_count": 14,
   "id": "b3a4830e-ced8-465a-b826-c28933f87bae",
   "metadata": {},
   "outputs": [
    {
     "name": "stdout",
     "output_type": "stream",
     "text": [
      "             welcome to data science              \n"
     ]
    }
   ],
   "source": [
    "print(a.center(50))"
   ]
  },
  {
   "cell_type": "markdown",
   "id": "68b2b6bc-b785-4f5f-a8ee-03519ec4d165",
   "metadata": {},
   "source": [
    "- count(): Returns the number of times a specified value occurs in a string"
   ]
  },
  {
   "cell_type": "code",
   "execution_count": 15,
   "id": "5c57a3c8-4e23-48c7-aec1-2e3b4b3fb318",
   "metadata": {},
   "outputs": [
    {
     "data": {
      "text/plain": [
       "4"
      ]
     },
     "execution_count": 15,
     "metadata": {},
     "output_type": "execute_result"
    }
   ],
   "source": [
    "a.count('e')"
   ]
  },
  {
   "cell_type": "markdown",
   "id": "3bb6544b-938f-4fac-9975-52d9df85ae15",
   "metadata": {},
   "source": [
    "- startswith(): Returns true if the string starts with the specified value\n",
    "- endswith(): Returns true if the string ends with the specified value"
   ]
  },
  {
   "cell_type": "code",
   "execution_count": 16,
   "id": "e8a4b44f-d0a9-4517-af6c-554692967301",
   "metadata": {},
   "outputs": [
    {
     "name": "stdout",
     "output_type": "stream",
     "text": [
      "False\n",
      "True\n"
     ]
    }
   ],
   "source": [
    "print(a.startswith('introduction'))\n",
    "print(a.endswith('science'))"
   ]
  },
  {
   "cell_type": "markdown",
   "id": "d09fdf5e-0d2c-431c-a6c3-60181a8ebae8",
   "metadata": {},
   "source": [
    "- index(): Searches the string for a specified value and returns the position of where it was found"
   ]
  },
  {
   "cell_type": "code",
   "execution_count": 17,
   "id": "f3c65eb0-158d-4667-9929-bd8c1af23342",
   "metadata": {},
   "outputs": [
    {
     "name": "stdout",
     "output_type": "stream",
     "text": [
      "16\n"
     ]
    }
   ],
   "source": [
    "print(a.index('science'))"
   ]
  },
  {
   "cell_type": "markdown",
   "id": "2c3b7069-7f7e-499b-900b-833836052792",
   "metadata": {},
   "source": [
    "- find(): Searches the string for a specified value and returns the position of where it was found"
   ]
  },
  {
   "cell_type": "code",
   "execution_count": 18,
   "id": "291dc3c9-badb-4fcd-a459-a95a1b3dfab5",
   "metadata": {},
   "outputs": [
    {
     "data": {
      "text/plain": [
       "11"
      ]
     },
     "execution_count": 18,
     "metadata": {},
     "output_type": "execute_result"
    }
   ],
   "source": [
    "a.find('data')"
   ]
  },
  {
   "cell_type": "markdown",
   "id": "39a18b90-1e51-40b6-bfd9-2a5eba41b853",
   "metadata": {},
   "source": [
    "\r\n",
    "- **isalnum()**: Returns `True` if all characters in the string are alphanumeric (combination of `a-z`, `A-Z`, or `0-9`) and there is at least one character.  \r\n",
    "- **isalpha()**: Returns `True` if all characters in the string are alphabetic (`a-z` or `A-Z`) and there is at least one character.  \r\n",
    "- **isupper()**: Returns `True` if all characters in the string are uppercase alphabetic characters (`A-Z`) and there is at least one character.  \r\n",
    "- **isnumeric()**: Returns `True` if all characters in the string are numeric (`0-9`) and there is at least one character.  \r\n",
    "- **islower()**: Returns `True` if all characters in the string are lowercase alphabetic characters (`a-z`) and there is at least one character.  "
   ]
  },
  {
   "cell_type": "code",
   "execution_count": 19,
   "id": "87c41d70-544b-4897-90b2-40ecdf04c731",
   "metadata": {},
   "outputs": [
    {
     "name": "stdout",
     "output_type": "stream",
     "text": [
      "--------------------------------------------------\n",
      "                     isalnum                      \n",
      "anshum7banga@gmail.com\t\t False\n",
      "anshum7banga\t\t\t True\n",
      "anshum banga\t\t\t False\n",
      "--------------------------------------------------\n",
      "                     isalpha                      \n",
      "anshumbanga\t\t\t True\n",
      "anshum7banga\t\t\t False\n",
      "--------------------------------------------------\n",
      "                     isupper                      \n",
      "HI THIS SIDE ANSHUM BANGA\t True\n",
      "--------------------------------------------------\n",
      "                    isnumeric                     \n",
      "123456789\t\t\t True\n",
      "--------------------------------------------------\n",
      "                     islower                      \n",
      "hi this side anshum banga\t True\n"
     ]
    }
   ],
   "source": [
    "# isalnum (1-9,a-z,A-Z)\n",
    "print('-'*50)\n",
    "print('isalnum'.center(50))\n",
    "print('anshum7banga@gmail.com\\t\\t','anshum7banga@gmail.com'.isalnum())\n",
    "print('anshum7banga\\t\\t\\t','anshum7banga'.isalnum())\n",
    "print('anshum banga\\t\\t\\t','anshum banga'.isalnum())\n",
    "# isalpha (a-z,A-Z)\n",
    "\n",
    "print('-'*50)\n",
    "print('isalpha'.center(50))\n",
    "print('anshumbanga\\t\\t\\t','anshumbanga'.isalpha())\n",
    "print('anshum7banga\\t\\t\\t','anshum7banga'.isalpha())\n",
    "# isupper\n",
    "print('-'*50)\n",
    "print('isupper'.center(50))\n",
    "print('HI THIS SIDE ANSHUM BANGA\\t','HI THIS SIDE ANSHUM BANGA'.isupper())\n",
    "# isnumeric (0-9)\n",
    "print('-'*50)\n",
    "print('isnumeric'.center(50))\n",
    "print('123456789\\t\\t\\t','123456789'.isnumeric())\n",
    "# islower \n",
    "print('-'*50)\n",
    "print('islower'.center(50))\n",
    "print('hi this side anshum banga\\t','hi this side anshum banga'.islower())"
   ]
  },
  {
   "cell_type": "markdown",
   "id": "96a330cb-8cd2-4f1f-92e3-3406c79c0858",
   "metadata": {},
   "source": [
    "### **Properties of Tuples in Python**\n",
    "\n",
    "1. **Ordered**: Maintain the order of elements.  \n",
    "2. **Immutable**: Elements cannot be modified after the tuple is created.  \n",
    "3. **Heterogeneous**: Can store elements of different data types.  \n",
    "4. **Indexed**: Support zero-based and negative indexing for element access.  \n",
    "5. **Allow Duplicates**: Can contain repeated elements.  \n",
    "6. **Fixed Size**: Size is determined when the tuple is created and cannot change.  \n",
    "7. **Nested Tuples**: Can contain other tuples or complex structures.  \n",
    "8. **Efficient**: Consume less memory compared to lists and are faster for iteration.  \n",
    "9. **Hashable**: Can be used as dictionary keys or elements of a set (if all items in the tuple are hashable).  \n",
    "10. **Objects**: Tuples are Python objects with basic methods like `count()` and `index()`.\n"
   ]
  },
  {
   "cell_type": "code",
   "execution_count": 20,
   "id": "b2993024-18ab-414b-aa82-c6610db88424",
   "metadata": {},
   "outputs": [
    {
     "name": "stdout",
     "output_type": "stream",
     "text": [
      "a\t (1, 2, 3)\n",
      "type\t <class 'tuple'>\n"
     ]
    }
   ],
   "source": [
    "# how we can make a tuple \n",
    "\n",
    "a = (1,2,3)\n",
    "print('a\\t',a)\n",
    "print('type\\t',type(a))"
   ]
  },
  {
   "cell_type": "code",
   "execution_count": 21,
   "id": "57224484-e8ad-4276-bfd1-7e0105758156",
   "metadata": {},
   "outputs": [
    {
     "name": "stdout",
     "output_type": "stream",
     "text": [
      "a\t ('alok', 1, 2, 3, 7.8, (1, 2, 3))\n",
      "type\t <class 'tuple'>\n"
     ]
    }
   ],
   "source": [
    "# heterogenous\n",
    "\n",
    "a = ('alok',1,2,3,7.8,(1,2,3))\n",
    "print('a\\t',a)\n",
    "print('type\\t',type(a))"
   ]
  },
  {
   "cell_type": "code",
   "execution_count": 22,
   "id": "345411d2-3cfa-4649-9796-111a57627fc2",
   "metadata": {},
   "outputs": [
    {
     "name": "stdout",
     "output_type": "stream",
     "text": [
      "a\t (1, 1, 1, 1, 1, 1)\n",
      "type\t <class 'tuple'>\n"
     ]
    }
   ],
   "source": [
    "# duplicacy \n",
    "a = (1,1,1,1,1,1)\n",
    "print('a\\t',a)\n",
    "print('type\\t',type(a))"
   ]
  },
  {
   "cell_type": "code",
   "execution_count": 23,
   "id": "ea37a93e-675e-467f-a815-3b9c52357b7c",
   "metadata": {},
   "outputs": [
    {
     "name": "stdout",
     "output_type": "stream",
     "text": [
      "a\t 1\n",
      "a\t 98\n",
      "type\t <class 'tuple'>\n"
     ]
    }
   ],
   "source": [
    "# indexing \n",
    "a = (1,7,2,98,23,65)\n",
    "print('a\\t',a[0]) # positive indexing \n",
    "print('a\\t',a[-3]) # negative indexing\n",
    "print('type\\t',type(a))"
   ]
  },
  {
   "cell_type": "markdown",
   "id": "4347f8ee-f0da-42c9-b0d5-e2c18a4d520b",
   "metadata": {},
   "source": [
    "#### Tuple Methods\n",
    "- count(): Returns the number of times a specified value occurs in a tuple\n",
    "- index(): Searches the tuple for a specified value and returns the position of where it was found"
   ]
  },
  {
   "cell_type": "code",
   "execution_count": 24,
   "id": "e84dd0a5-cec7-4d8a-95b0-72bfee02c3e4",
   "metadata": {},
   "outputs": [
    {
     "name": "stdout",
     "output_type": "stream",
     "text": [
      "count of 1\t 4\n"
     ]
    }
   ],
   "source": [
    "tup1 = (1,1,2,3,4,1,1)\n",
    "print('count of 1\\t',tup1.count(1))"
   ]
  },
  {
   "cell_type": "code",
   "execution_count": 25,
   "id": "5e00f0c2-b77f-4137-af8b-75f83299dbe9",
   "metadata": {},
   "outputs": [
    {
     "name": "stdout",
     "output_type": "stream",
     "text": [
      "index\t 3\n"
     ]
    }
   ],
   "source": [
    "print('index\\t',tup1.index(3))"
   ]
  },
  {
   "cell_type": "markdown",
   "id": "1e8dc226-0007-4c61-aa1d-bf41a1920434",
   "metadata": {},
   "source": [
    "### **Properties of Lists in Python**\r\n",
    "\r\n",
    "1. **Ordered**: Maintain the order of elements.  \r\n",
    "2. **Mutable**: Can be modified (add, remove, or change elements).  \r\n",
    "3. **Heterogeneous**: Can store elements of different data types.  \r\n",
    "4. **Dynamic**: Can grow or shrink in size.  \r\n",
    "5. **Allows Duplicates**: Supports repeated elements.  \r\n",
    "6. **Indexed**: Supports zero-based and negative indexing.  \r\n",
    "7. **Iterable**: Can be traversed using loops.  \r\n",
    "8. **Nested**: Can contain other lists.  \r\n",
    "9. **Built-in Methods**: Provides methods like `append()`, `pop()`, `sort()`, etc.  \r\n",
    "10. **Objects**: Lists are Python objects with associated widely used!"
   ]
  },
  {
   "cell_type": "code",
   "execution_count": 26,
   "id": "3f4aba64-cd40-4950-abc0-46418311db4d",
   "metadata": {},
   "outputs": [
    {
     "name": "stdout",
     "output_type": "stream",
     "text": [
      "[1, 2, 3, 4, 5]\n"
     ]
    }
   ],
   "source": [
    "# how can we make a list \n",
    "\n",
    "l1 = [1,2,3,4,5]\n",
    "print(l1)"
   ]
  },
  {
   "cell_type": "code",
   "execution_count": 27,
   "id": "febb7d76-2697-45ca-a053-8ee1803d8b3c",
   "metadata": {},
   "outputs": [
    {
     "name": "stdout",
     "output_type": "stream",
     "text": [
      "['alok', 'afroz', 'chhavi', 'nitin']\n",
      "['dosa', 'samosa', 'pizza', 'daal roti']\n"
     ]
    }
   ],
   "source": [
    "# example\n",
    "name = ['alok','afroz','chhavi','nitin']\n",
    "food = ['dosa','samosa','pizza','daal roti']\n",
    "print(name)\n",
    "print(food)"
   ]
  },
  {
   "cell_type": "code",
   "execution_count": 28,
   "id": "a922708f-793f-4b4f-9cca-0f55b4553be8",
   "metadata": {},
   "outputs": [
    {
     "name": "stdout",
     "output_type": "stream",
     "text": [
      "[1, 2, 3, 3, 3, 3, 4.5, 6.7, 'shivani', [1, 2, 3, 4, 5]]\n"
     ]
    }
   ],
   "source": [
    "# heterogenous, duplicacy, nested lists \n",
    "\n",
    "l2 = [1,2,3,3,3,3,4.5,6.7,'shivani',[1,2,3,4,5]]\n",
    "print(l2)"
   ]
  },
  {
   "cell_type": "code",
   "execution_count": 29,
   "id": "eadb4afc-4b48-482c-bf61-741b36ba249a",
   "metadata": {},
   "outputs": [
    {
     "name": "stdout",
     "output_type": "stream",
     "text": [
      "shivani\n",
      "--------------------------------------------------\n",
      "v\n",
      "[1, 2, 3, 4, 5]\n",
      "--------------------------------------------------\n",
      "2\n"
     ]
    }
   ],
   "source": [
    "# indexing \n",
    "print(l2[-2])\n",
    "print('-'*50)\n",
    "print(l2[-2][-4])\n",
    "print(l2[-1])\n",
    "print('-'*50)\n",
    "print(l2[-1][-4])"
   ]
  },
  {
   "cell_type": "code",
   "execution_count": 30,
   "id": "00c53683-05e4-44a4-a87e-854004caf5ca",
   "metadata": {},
   "outputs": [
    {
     "name": "stdout",
     "output_type": "stream",
     "text": [
      "[]\n"
     ]
    }
   ],
   "source": [
    "# how can we make an empty list \n",
    "a = []\n",
    "print(a)"
   ]
  },
  {
   "cell_type": "markdown",
   "id": "da6c8b38-7fed-4fe4-8fee-06a346270355",
   "metadata": {},
   "source": [
    "#### List Methods\n",
    "- append(): Adds an element at the end of the list"
   ]
  },
  {
   "cell_type": "code",
   "execution_count": 31,
   "id": "c6cc7714-c5fb-4fcd-b790-acb286c49094",
   "metadata": {},
   "outputs": [
    {
     "name": "stdout",
     "output_type": "stream",
     "text": [
      "[1, 2, 3, 4]\n"
     ]
    }
   ],
   "source": [
    "l3 = [1,2,3,4]\n",
    "print(l3)"
   ]
  },
  {
   "cell_type": "code",
   "execution_count": 32,
   "id": "ccf48e30-af59-48a4-aa49-052d253c36f3",
   "metadata": {},
   "outputs": [
    {
     "name": "stdout",
     "output_type": "stream",
     "text": [
      "[1, 2, 3, 4, 5]\n"
     ]
    }
   ],
   "source": [
    "# adding new element\n",
    "l3.append(5)\n",
    "print(l3)"
   ]
  },
  {
   "cell_type": "code",
   "execution_count": 33,
   "id": "c4d24ef7-dfc1-42ac-8bc5-3307cbb5ab3e",
   "metadata": {},
   "outputs": [
    {
     "name": "stdout",
     "output_type": "stream",
     "text": [
      "[1, 2, 3, 4, 5, 6, 0, 9]\n"
     ]
    }
   ],
   "source": [
    "l3.append(6)\n",
    "l3.append(0)\n",
    "l3.append(9)\n",
    "print(l3)"
   ]
  },
  {
   "cell_type": "markdown",
   "id": "cfcd963b-28d9-4d06-ad7a-387e481296bd",
   "metadata": {},
   "source": [
    "- clear(): Removes all the elements from the list"
   ]
  },
  {
   "cell_type": "code",
   "execution_count": 34,
   "id": "8b2c17d6-10f2-409a-9afe-f462a5c5d50e",
   "metadata": {},
   "outputs": [
    {
     "name": "stdout",
     "output_type": "stream",
     "text": [
      "[1, 2, 3, 4, 5, 6, 0, 9]\n",
      "--------------------------------------------------\n",
      "after clear() method\n",
      "[]\n"
     ]
    }
   ],
   "source": [
    "print(l3)\n",
    "l3.clear()\n",
    "print('-'*50)\n",
    "print('after clear() method')\n",
    "print(l3)"
   ]
  },
  {
   "cell_type": "markdown",
   "id": "0c99ef2b-270c-4d31-9e50-98e58a35518c",
   "metadata": {},
   "source": [
    "- copy(): Returns a copy of the list"
   ]
  },
  {
   "cell_type": "code",
   "execution_count": 35,
   "id": "16074787-b1c5-4560-95ad-50624e10af13",
   "metadata": {},
   "outputs": [
    {
     "name": "stdout",
     "output_type": "stream",
     "text": [
      "88\n",
      "56\n"
     ]
    }
   ],
   "source": [
    "a = [1,2,3,4]\n",
    "b = []\n",
    "\n",
    "import sys \n",
    "print(sys.getsizeof(a))\n",
    "print(sys.getsizeof(b))"
   ]
  },
  {
   "cell_type": "code",
   "execution_count": 36,
   "id": "91a8e489-762c-47df-8fd7-76a277a2b94b",
   "metadata": {},
   "outputs": [
    {
     "data": {
      "text/plain": [
       "88"
      ]
     },
     "execution_count": 36,
     "metadata": {},
     "output_type": "execute_result"
    }
   ],
   "source": [
    "b  = a.copy()\n",
    "sys.getsizeof(b)"
   ]
  },
  {
   "cell_type": "code",
   "execution_count": 37,
   "id": "cc602fbe-cbea-49fe-a8b4-8073ed273f93",
   "metadata": {},
   "outputs": [],
   "source": [
    "a = [[1,2],[3,4]]"
   ]
  },
  {
   "cell_type": "code",
   "execution_count": 38,
   "id": "c1d81840-b4a3-4b55-aec8-ab99b20c407e",
   "metadata": {},
   "outputs": [],
   "source": [
    "b = a.copy()"
   ]
  },
  {
   "cell_type": "markdown",
   "id": "05aa27fd-d379-42de-85e4-e9f2fffa9b22",
   "metadata": {},
   "source": [
    "- count(): Returns the number of elements with the specified value"
   ]
  },
  {
   "cell_type": "code",
   "execution_count": 39,
   "id": "e440aba0-aa79-45c8-bd90-4928eee2f457",
   "metadata": {},
   "outputs": [
    {
     "name": "stdout",
     "output_type": "stream",
     "text": [
      "6\n",
      "2\n"
     ]
    }
   ],
   "source": [
    "l4 = [1,2,1,2,3,4,45,1,1,1,1,'anshum','anshum']\n",
    "print(l4.count(1))\n",
    "print(l4.count('anshum'))"
   ]
  },
  {
   "cell_type": "markdown",
   "id": "99be2a59-0b55-4f20-a071-f876e2abd680",
   "metadata": {},
   "source": [
    "- extend(): Add the elements of a list (or any iterable), to the end of the current list"
   ]
  },
  {
   "cell_type": "code",
   "execution_count": 40,
   "id": "813bde0e-2bf3-4b61-ae99-f44a8f670270",
   "metadata": {},
   "outputs": [
    {
     "name": "stdout",
     "output_type": "stream",
     "text": [
      "[1, 2, 3, 4, 5, 6, 7, 8, 9]\n"
     ]
    }
   ],
   "source": [
    "a = [1,2,3,4,5]\n",
    "b = [6,7,8,9]\n",
    "\n",
    "a.extend(b)\n",
    "print(a)"
   ]
  },
  {
   "cell_type": "markdown",
   "id": "e1924002-61f1-4e99-be56-85047b49ddd8",
   "metadata": {},
   "source": [
    "- index(): Returns the index of the first element with the specified value"
   ]
  },
  {
   "cell_type": "code",
   "execution_count": 41,
   "id": "a9bbd46f-2a47-4a55-b000-c6e5623f12de",
   "metadata": {},
   "outputs": [
    {
     "name": "stdout",
     "output_type": "stream",
     "text": [
      "[1, 2, 1, 2, 3, 4, 45, 1, 1, 1, 1, 'anshum', 'anshum']\n"
     ]
    },
    {
     "data": {
      "text/plain": [
       "11"
      ]
     },
     "execution_count": 41,
     "metadata": {},
     "output_type": "execute_result"
    }
   ],
   "source": [
    "print(l4)\n",
    "l4.index('anshum')"
   ]
  },
  {
   "cell_type": "markdown",
   "id": "f071118c-5981-4cca-ac9a-4b98f5946c09",
   "metadata": {},
   "source": [
    "- insert(): Adds an element at the specified position"
   ]
  },
  {
   "cell_type": "code",
   "execution_count": 42,
   "id": "3934467d-0c24-4339-a5fe-189685b9feaf",
   "metadata": {},
   "outputs": [
    {
     "name": "stdout",
     "output_type": "stream",
     "text": [
      "[1, 2, 1, 2, 3, 4, 45, 1, 1, 1, 1, 'anshum', 'anshum']\n",
      "[1, 2, 'nitin', 1, 2, 3, 4, 45, 1, 1, 1, 1, 'anshum', 'anshum']\n"
     ]
    }
   ],
   "source": [
    "print(l4)\n",
    "l4.insert(2,'nitin')\n",
    "print(l4)"
   ]
  },
  {
   "cell_type": "markdown",
   "id": "c5185818-5a93-4c34-a7f7-5c649d2d1a4b",
   "metadata": {},
   "source": [
    "- pop(): Removes the element at the specified position"
   ]
  },
  {
   "cell_type": "code",
   "execution_count": 43,
   "id": "d0396925-5180-4cc2-996e-4947b52a681f",
   "metadata": {},
   "outputs": [
    {
     "name": "stdout",
     "output_type": "stream",
     "text": [
      "[1, 2, 54, 23, 23, 45, 65]\n",
      "**************************************************\n",
      "[1, 2, 23, 23, 45, 65]\n"
     ]
    }
   ],
   "source": [
    "l5 = [1,2,54,23,23,45,65]\n",
    "print(l5)\n",
    "print('*'*50)\n",
    "l5.pop(2)\n",
    "print(l5)"
   ]
  },
  {
   "cell_type": "markdown",
   "id": "9bf1d600-9141-453b-aff3-fc40384a0fa4",
   "metadata": {},
   "source": [
    "- remove(): Removes the item with the specified value"
   ]
  },
  {
   "cell_type": "code",
   "execution_count": 44,
   "id": "464c3776-1072-4b62-a17c-4ec1835efe5a",
   "metadata": {},
   "outputs": [
    {
     "name": "stdout",
     "output_type": "stream",
     "text": [
      "['dosa', 'samosa', 'pizza', 'daal roti']\n",
      "**************************************************\n",
      "['dosa', 'samosa', 'daal roti']\n"
     ]
    }
   ],
   "source": [
    "print(food)\n",
    "print('*'*50)\n",
    "food.remove('pizza')\n",
    "print(food)"
   ]
  },
  {
   "cell_type": "markdown",
   "id": "0020cbf6-cf17-4862-a940-790682b1bf9d",
   "metadata": {},
   "source": [
    "- reverse(): Reverses the order of the list"
   ]
  },
  {
   "cell_type": "code",
   "execution_count": 45,
   "id": "7c1ad0fb-15b6-45ac-937c-b9742d774a27",
   "metadata": {},
   "outputs": [
    {
     "data": {
      "text/plain": [
       "[9, 8, 7, 6, 5, 4, 3, 2, 1]"
      ]
     },
     "execution_count": 45,
     "metadata": {},
     "output_type": "execute_result"
    }
   ],
   "source": [
    "a = [1,2,3,4,5,6,7,8,9]\n",
    "a.reverse()\n",
    "a"
   ]
  },
  {
   "cell_type": "markdown",
   "id": "badb8aec-7d94-485c-85b2-ef2fd5c51041",
   "metadata": {},
   "source": [
    "- sort(): Sorts the list\""
   ]
  },
  {
   "cell_type": "code",
   "execution_count": 46,
   "id": "fd992a33-aa54-4df6-8a8c-11752742dc96",
   "metadata": {},
   "outputs": [
    {
     "name": "stdout",
     "output_type": "stream",
     "text": [
      "[2, 31, 2, 3, 4, 1, 5, 6, 3, 5, 8, 6, 23, 24, 67, 2, 54, 65]\n",
      "--------------------------------------------------------------------------------\n",
      "[1, 2, 2, 2, 3, 3, 4, 5, 5, 6, 6, 8, 23, 24, 31, 54, 65, 67]\n"
     ]
    }
   ],
   "source": [
    "a = [2,31,2,3,4,1,5,6,3,5,8,6,23,24,67,2,54,65]\n",
    "print(a)\n",
    "print(\"-\"*80)\n",
    "a.sort()\n",
    "print(a)"
   ]
  },
  {
   "cell_type": "markdown",
   "id": "517ecfd4-ebb2-4c61-b577-fa0a5a92c0c1",
   "metadata": {},
   "source": [
    "### **Properties of Sets in Python**\n",
    "\n",
    "1. **Unordered**: Sets do not maintain the order of elements.  \n",
    "2. **Unique Elements**: No duplicate elements are allowed.  \n",
    "3. **Mutable**: Can add or remove elements, but individual elements must be immutable.  \n",
    "4. **Dynamic**: Can grow or shrink in size.  \n",
    "5. **Heterogeneous**: Can store elements of different data types.  \n",
    "6. **Unindexed**: Elements cannot be accessed by index; use loops to traverse.  \n",
    "7. **Fast Operations**: Optimized for fast membership testing (`in`/`not in`).  \n",
    "8. **Built-in Methods**: Supports methods like `add()`, `remove()`, `union()`, `intersection()`, etc.  \n",
    "9. **No Nested Sets**: Sets cannot contain other sets, but can include frozensets.  \n",
    "10. **Objects**: Sets are Python objects with associated methods."
   ]
  },
  {
   "cell_type": "code",
   "execution_count": 47,
   "id": "ac0fa237-af28-4217-aa2d-977bbeac9704",
   "metadata": {},
   "outputs": [
    {
     "name": "stdout",
     "output_type": "stream",
     "text": [
      "{1, 2, 3, 4, 5, 6}\n"
     ]
    }
   ],
   "source": [
    "set1 = {1,2,3,4,5,6}\n",
    "print(set1)"
   ]
  },
  {
   "cell_type": "code",
   "execution_count": 48,
   "id": "90ed355b-159d-48e4-b3b6-30fe6cbd5711",
   "metadata": {},
   "outputs": [
    {
     "name": "stdout",
     "output_type": "stream",
     "text": [
      "{'dosa', 'pizza', 'samosa', 'italian'}\n"
     ]
    }
   ],
   "source": [
    "set2 = {'pizza','samosa','dosa','italian'}\n",
    "print(set2)"
   ]
  },
  {
   "cell_type": "code",
   "execution_count": 49,
   "id": "78f35725-6af3-4acf-95a8-7a2c6030c231",
   "metadata": {},
   "outputs": [
    {
     "name": "stdout",
     "output_type": "stream",
     "text": [
      "{1, 2, 3, 4.5, 6.7, 'nitin', 'shruti'}\n"
     ]
    }
   ],
   "source": [
    "set3 = {1,2,3,4.5,6.7,'nitin','shruti'}\n",
    "print(set3)"
   ]
  },
  {
   "cell_type": "code",
   "execution_count": 50,
   "id": "c47c07da-afb5-4e04-989e-4f305bc1054f",
   "metadata": {},
   "outputs": [
    {
     "name": "stdout",
     "output_type": "stream",
     "text": [
      "{1, 2, 3, 4}\n"
     ]
    }
   ],
   "source": [
    "set4 = {1,1,1,1,1,1,2,3,2,3,4}\n",
    "print(set4)"
   ]
  },
  {
   "cell_type": "code",
   "execution_count": 51,
   "id": "893ff2c1-f857-48b7-a459-425310437655",
   "metadata": {},
   "outputs": [
    {
     "data": {
      "text/plain": [
       "set"
      ]
     },
     "execution_count": 51,
     "metadata": {},
     "output_type": "execute_result"
    }
   ],
   "source": [
    "# how to create an empty set \n",
    "\n",
    "setemp = set()\n",
    "type(setemp)"
   ]
  },
  {
   "cell_type": "markdown",
   "id": "111c9226-aeaa-4fc5-8b9b-a6f8906380b8",
   "metadata": {},
   "source": [
    "# Sets Methods \n",
    "\n",
    "- add(): Adds an element to the set"
   ]
  },
  {
   "cell_type": "code",
   "execution_count": 52,
   "id": "7ab04538-a13b-43ef-a9a5-23f7df1d13bf",
   "metadata": {},
   "outputs": [
    {
     "name": "stdout",
     "output_type": "stream",
     "text": [
      "{1, 2, 3, 4, 5}\n"
     ]
    }
   ],
   "source": [
    "set1 = {1,2,3,4,5}\n",
    "print(set1)"
   ]
  },
  {
   "cell_type": "code",
   "execution_count": 53,
   "id": "e77c01da-caaa-4b69-9ba6-d7c53c0c515d",
   "metadata": {},
   "outputs": [
    {
     "name": "stdout",
     "output_type": "stream",
     "text": [
      "{1, 2, 3, 4, 5, 9}\n"
     ]
    }
   ],
   "source": [
    "set1.add(9)\n",
    "print(set1)"
   ]
  },
  {
   "cell_type": "markdown",
   "id": "d728bc6e-7bc1-48eb-8b05-4f274bfd1ef0",
   "metadata": {},
   "source": [
    "- clear(): Removes all the elements from the set"
   ]
  },
  {
   "cell_type": "code",
   "execution_count": 54,
   "id": "6f108622-c8fd-46a1-b8bb-e073ed18250b",
   "metadata": {},
   "outputs": [
    {
     "name": "stdout",
     "output_type": "stream",
     "text": [
      "set()\n"
     ]
    }
   ],
   "source": [
    "set1.clear()\n",
    "print(set1)"
   ]
  },
  {
   "cell_type": "markdown",
   "id": "52268787-39b5-4471-b85c-a10f4d50b66c",
   "metadata": {},
   "source": [
    "- union(): \tReturn a set containing the union of sets"
   ]
  },
  {
   "cell_type": "code",
   "execution_count": 55,
   "id": "4ef31647-e0a2-4afa-be32-0eedae034a4d",
   "metadata": {},
   "outputs": [
    {
     "name": "stdout",
     "output_type": "stream",
     "text": [
      "a {1, 2, 3, 4, 5, 6}\n",
      "b {1, 4, 5, 6, 7, 8}\n",
      "--------------------------------------------------\n",
      "{1, 2, 3, 4, 5, 6, 7, 8}\n"
     ]
    }
   ],
   "source": [
    "a = {1,2,3,4,5,6}\n",
    "b = {4,5,6,7,8,1}\n",
    "print('a',a)\n",
    "print('b',b)\n",
    "print('-'*50)\n",
    "print(a.union(b))"
   ]
  },
  {
   "cell_type": "markdown",
   "id": "1e1d7f09-50ef-4ea5-83d9-c2fbc2a2a9f3",
   "metadata": {},
   "source": [
    "- update(): Update the set with the union of this set and others"
   ]
  },
  {
   "cell_type": "code",
   "execution_count": 56,
   "id": "2cb19b87-2467-44ce-93f8-311d5b993c5d",
   "metadata": {},
   "outputs": [
    {
     "name": "stdout",
     "output_type": "stream",
     "text": [
      "a {1, 2, 3, 4, 5, 6}\n",
      "b {1, 4, 5, 6, 7, 8}\n",
      "--------------------------------------------------\n",
      "{1, 2, 3, 4, 5, 6, 7, 8}\n"
     ]
    }
   ],
   "source": [
    "print('a',a)\n",
    "print('b',b)\n",
    "print('-'*50)\n",
    "a.update(b)\n",
    "\n",
    "print(a)"
   ]
  },
  {
   "cell_type": "markdown",
   "id": "a018c103-39f3-4252-ad88-bc57e6323b5a",
   "metadata": {},
   "source": [
    "- difference(): Returns a set containing the difference between two or more sets"
   ]
  },
  {
   "cell_type": "code",
   "execution_count": 57,
   "id": "c27c35ab-26e7-4479-81da-ca8290afece6",
   "metadata": {},
   "outputs": [
    {
     "name": "stdout",
     "output_type": "stream",
     "text": [
      "a {1, 2, 3, 4, 5, 6}\n",
      "b {1, 4, 5, 6, 7, 8}\n",
      "--------------------------------------------------\n",
      "{2, 3}\n"
     ]
    }
   ],
   "source": [
    "a = {1,2,3,4,5,6}\n",
    "b = {4,5,6,7,8,1}\n",
    "print('a',a)\n",
    "print('b',b)\n",
    "print('-'*50)\n",
    "print(a.difference(b))\n",
    "# print(a-b)"
   ]
  },
  {
   "cell_type": "markdown",
   "id": "eaa53b26-40e6-4c52-bf18-12509d82b4c1",
   "metadata": {},
   "source": [
    "- difference_update(): Removes the items in this set that are also included in another, specified set"
   ]
  },
  {
   "cell_type": "code",
   "execution_count": 58,
   "id": "cc1e2b9e-1b00-474a-880c-2abbbef0abb2",
   "metadata": {},
   "outputs": [
    {
     "name": "stdout",
     "output_type": "stream",
     "text": [
      "a {1, 2, 3, 4, 5, 6}\n",
      "b {1, 4, 5, 6, 7, 8}\n",
      "--------------------------------------------------\n",
      "{2, 3}\n"
     ]
    }
   ],
   "source": [
    "print('a',a)\n",
    "print('b',b)\n",
    "print('-'*50)\n",
    "a.difference_update(b)\n",
    "\n",
    "print(a)"
   ]
  },
  {
   "cell_type": "markdown",
   "id": "6e6940c8-5a20-4561-86c4-0e4015125175",
   "metadata": {},
   "source": [
    "- intersection(): Returns a set, that is the intersection of two other sets"
   ]
  },
  {
   "cell_type": "code",
   "execution_count": 59,
   "id": "901aa652-571f-4bc8-8618-7e8a2f5d22b4",
   "metadata": {},
   "outputs": [
    {
     "name": "stdout",
     "output_type": "stream",
     "text": [
      "a {1, 2, 3, 4, 5, 6}\n",
      "b {1, 4, 5, 6, 7, 8}\n",
      "--------------------------------------------------\n",
      "{1, 4, 5, 6}\n"
     ]
    }
   ],
   "source": [
    "a = {1,2,3,4,5,6}\n",
    "b = {4,5,6,7,8,1}\n",
    "print('a',a)\n",
    "print('b',b)\n",
    "print('-'*50)\n",
    "print(a.intersection(b))"
   ]
  },
  {
   "cell_type": "markdown",
   "id": "407ec00c-c6fe-4c5f-ac2d-449866433581",
   "metadata": {},
   "source": [
    "- intersection_update(): Removes the items in this set that are not present in other, specified set(s)"
   ]
  },
  {
   "cell_type": "code",
   "execution_count": 60,
   "id": "39c4df3e-0c93-4a02-9893-8243e2502f9b",
   "metadata": {},
   "outputs": [
    {
     "name": "stdout",
     "output_type": "stream",
     "text": [
      "a {1, 2, 3, 4, 5, 6}\n",
      "b {1, 4, 5, 6, 7, 8}\n",
      "--------------------------------------------------\n",
      "{1, 4, 5, 6}\n"
     ]
    }
   ],
   "source": [
    "print('a',a)\n",
    "print('b',b)\n",
    "print('-'*50)\n",
    "a.intersection_update(b)\n",
    "\n",
    "print(a)"
   ]
  },
  {
   "cell_type": "markdown",
   "id": "039cf1f5-d27a-4c39-a4b7-59942759b6ec",
   "metadata": {},
   "source": [
    "- issuperset(): Returns whether this set contains another set or not\n",
    "- issubset(): Returns whether another set contains this set or not"
   ]
  },
  {
   "cell_type": "code",
   "execution_count": 61,
   "id": "dca46bc9-9d22-4d3b-a36d-0ff8ef8e9ed6",
   "metadata": {},
   "outputs": [],
   "source": [
    "a = {1,2,3,4,5,6}\n",
    "b = {4,5,6,7,8,1}\n",
    "c = {4,5,6}\n",
    "d = {1,3}"
   ]
  },
  {
   "cell_type": "code",
   "execution_count": 62,
   "id": "e5e674e2-a443-4392-8c1a-dac303985551",
   "metadata": {},
   "outputs": [
    {
     "name": "stdout",
     "output_type": "stream",
     "text": [
      "a\t {1, 2, 3, 4, 5, 6}\n",
      "b\t {1, 4, 5, 6, 7, 8}\n",
      "c\t {4, 5, 6}\n",
      "--------------------------------------------------\n",
      "is a superset of b?\t False\n",
      "is a superset of c?\t True\n",
      "is a superset of d?\t True\n"
     ]
    }
   ],
   "source": [
    "# superset \n",
    "print('a\\t',a)\n",
    "print('b\\t',b)\n",
    "print('c\\t',c)\n",
    "print('-'*50)\n",
    "print('is a superset of b?\\t',a.issuperset(b))\n",
    "print('is a superset of c?\\t',a.issuperset(c))\n",
    "print('is a superset of d?\\t',a.issuperset(d))"
   ]
  },
  {
   "cell_type": "code",
   "execution_count": 63,
   "id": "fe215a9d-ec00-49c4-89f9-e407abd255f9",
   "metadata": {},
   "outputs": [
    {
     "name": "stdout",
     "output_type": "stream",
     "text": [
      "a\t {1, 2, 3, 4, 5, 6}\n",
      "b\t {1, 4, 5, 6, 7, 8}\n",
      "c\t {4, 5, 6}\n",
      "--------------------------------------------------\n",
      "is b subset of a?\t False\n",
      "is c subset of a?\t True\n",
      "is b subset of a?\t True\n"
     ]
    }
   ],
   "source": [
    "# superset \n",
    "print('a\\t',a)\n",
    "print('b\\t',b)\n",
    "print('c\\t',c)\n",
    "print('-'*50)\n",
    "print('is b subset of a?\\t',b.issubset(a))\n",
    "print('is c subset of a?\\t',c.issubset(a))\n",
    "print('is b subset of a?\\t',d.issubset(a))"
   ]
  },
  {
   "cell_type": "markdown",
   "id": "be98bf5f-f510-4bfa-9951-789f679282ea",
   "metadata": {},
   "source": [
    "- pop():Removes an element from the set\n",
    "- remove(): Removes the specified element"
   ]
  },
  {
   "cell_type": "code",
   "execution_count": 64,
   "id": "34415125-ca4b-42b7-9f14-8559e8fcce57",
   "metadata": {},
   "outputs": [
    {
     "name": "stdout",
     "output_type": "stream",
     "text": [
      "set before\t {'dosa', 'pizza', 'samosa', 'italian'}\n",
      "----------------------------------------------------------------------\n",
      "removed item\t dosa\n",
      "set after\t {'pizza', 'samosa', 'italian'}\n"
     ]
    }
   ],
   "source": [
    "set2 = {'pizza','samosa','dosa','italian'}\n",
    "print('set before\\t',set2)\n",
    "print('-'*70)\n",
    "print('removed item\\t',set2.pop())\n",
    "print('set after\\t',set2)"
   ]
  },
  {
   "cell_type": "markdown",
   "id": "40bfbdd0-8a12-4de0-acd1-4151283a998c",
   "metadata": {},
   "source": [
    "### **Properties of Dictionaries in Python**\n",
    "\n",
    "1. **Unordered**: Do not maintain the order of elements (order is maintained from Python 3.7+ but is not guaranteed in earlier versions).  \n",
    "2. **Mutable**: Can be modified (add, remove, or update key-value pairs).  \n",
    "3. **Key-Value Pair**: Consists of unique keys mapped to corresponding values.  \n",
    "4. **Heterogeneous**: Keys and values can store elements of different data types.  \n",
    "5. **Unique Keys**: Keys must be unique, while values can be duplicated.  \n",
    "6. **Dynamic**: Can grow or shrink in size.  \n",
    "7. **No Indexing**: Access elements using keys instead of indices.  \n",
    "8. **Iterable**: Can be traversed using loops (e.g., `for key in dictionary:`).  \n",
    "9. **Nested**: Can contain other dictionaries or data structures.  \n",
    "10. **Built-in Methods**: Provides methods like `get()`, `keys()`, `values()`, `items()`, `pop()`, etc.  \n",
    "11. **Hashable Keys**: Keys must be immutable and hashable (e.g., strings, numbers, tuples).  \n",
    "12. **Fast Lookups**: Optimized for retrieving values using keys.  "
   ]
  },
  {
   "cell_type": "code",
   "execution_count": 65,
   "id": "1ae7bcd3-1caa-4960-8e5a-7bb7a3779480",
   "metadata": {},
   "outputs": [],
   "source": [
    "# dictionaries \n",
    "\n",
    "dict1 = {'key':'value'}"
   ]
  },
  {
   "cell_type": "code",
   "execution_count": 66,
   "id": "82678f47-7d25-49aa-a9cc-2a12a5e54c46",
   "metadata": {},
   "outputs": [
    {
     "data": {
      "text/plain": [
       "{'key': 'value'}"
      ]
     },
     "execution_count": 66,
     "metadata": {},
     "output_type": "execute_result"
    }
   ],
   "source": [
    "dict1"
   ]
  },
  {
   "cell_type": "code",
   "execution_count": 67,
   "id": "c359b442-e98f-413b-aa63-33b3bcbfd7e6",
   "metadata": {},
   "outputs": [
    {
     "name": "stdout",
     "output_type": "stream",
     "text": [
      "{'name': ['Alok', 'Nitin', 'Afroz'], 'course': ['Data Analytics', 'Data Science', 'Data Engg.'], 'marks': [90, 91, 85]}\n"
     ]
    }
   ],
   "source": [
    "dict1 = {'name':['Alok','Nitin','Afroz'],\n",
    "        'course':['Data Analytics','Data Science','Data Engg.'],\n",
    "        'marks':[90,91,85]}\n",
    "\n",
    "print(dict1)"
   ]
  },
  {
   "cell_type": "code",
   "execution_count": 68,
   "id": "d7a9da7e-2d08-4946-ba82-8fc99f1abc4e",
   "metadata": {},
   "outputs": [
    {
     "name": "stdout",
     "output_type": "stream",
     "text": [
      "{'enhance': 'intensify, increase, or further improve the quality, value, or extent of.', 'specify': 'identify clearly and definitely.'}\n"
     ]
    }
   ],
   "source": [
    "dict1 = {'enhance':'intensify, increase, or further improve the quality, value, or extent of.',\n",
    "        'specify':'identify clearly and definitely.'}\n",
    "print(dict1)"
   ]
  },
  {
   "cell_type": "markdown",
   "id": "37b8c421-c897-42d1-bc37-156cf73f960c",
   "metadata": {},
   "source": [
    "### **Dictionary Methods in Python**\n",
    "\n",
    "- **clear()**: Removes all elements from the dictionary, leaving it empty.  "
   ]
  },
  {
   "cell_type": "code",
   "execution_count": 69,
   "id": "b1a2202b-c82b-471c-b0d3-019478fc4dfc",
   "metadata": {},
   "outputs": [
    {
     "name": "stdout",
     "output_type": "stream",
     "text": [
      "{}\n"
     ]
    }
   ],
   "source": [
    "dict1.clear()\n",
    "print(dict1)"
   ]
  },
  {
   "cell_type": "markdown",
   "id": "eefe9480-e87c-4965-a24c-9cf111014225",
   "metadata": {},
   "source": [
    "- **get(key)**: Returns the value associated with the specified key. If the key does not exist, returns the default value (or `None` if not specified).  "
   ]
  },
  {
   "cell_type": "code",
   "execution_count": 70,
   "id": "569ba8fd-1dd9-4ade-a839-be525738fa39",
   "metadata": {},
   "outputs": [],
   "source": [
    "dict1 = {'name':['Alok','Nitin','Afroz'],\n",
    "        'course':['Data Analytics','Data Science','Data Engg.'],\n",
    "        'marks':[90,91,85]}"
   ]
  },
  {
   "cell_type": "code",
   "execution_count": 71,
   "id": "af655ad9-e97e-48a0-9e60-0ced68187cc5",
   "metadata": {},
   "outputs": [
    {
     "data": {
      "text/plain": [
       "['Alok', 'Nitin', 'Afroz']"
      ]
     },
     "execution_count": 71,
     "metadata": {},
     "output_type": "execute_result"
    }
   ],
   "source": [
    "# indexing \n",
    "dict1['name']"
   ]
  },
  {
   "cell_type": "code",
   "execution_count": 72,
   "id": "1bb83af4-290f-42b2-9919-b85be4a29e3d",
   "metadata": {},
   "outputs": [
    {
     "ename": "KeyError",
     "evalue": "'fees'",
     "output_type": "error",
     "traceback": [
      "\u001b[1;31m---------------------------------------------------------------------------\u001b[0m",
      "\u001b[1;31mKeyError\u001b[0m                                  Traceback (most recent call last)",
      "Cell \u001b[1;32mIn[72], line 1\u001b[0m\n\u001b[1;32m----> 1\u001b[0m dict1[\u001b[38;5;124m'\u001b[39m\u001b[38;5;124mfees\u001b[39m\u001b[38;5;124m'\u001b[39m]\n",
      "\u001b[1;31mKeyError\u001b[0m: 'fees'"
     ]
    }
   ],
   "source": [
    "dict1['fees']"
   ]
  },
  {
   "cell_type": "code",
   "execution_count": null,
   "id": "5d19f24a-7c08-4206-b57e-11484bc7623c",
   "metadata": {},
   "outputs": [],
   "source": [
    "# get \n",
    "dict1.get('name')"
   ]
  },
  {
   "cell_type": "code",
   "execution_count": null,
   "id": "2c7508b8-02fd-4c26-9328-1ffaef0e7fd8",
   "metadata": {},
   "outputs": [],
   "source": [
    "dict1.get('fees')"
   ]
  },
  {
   "cell_type": "markdown",
   "id": "3edf918a-4337-4c43-b5a9-e6c0ea8a0d88",
   "metadata": {},
   "source": [
    "- **items()**: Returns a view object that displays a list of dictionary's key-value pairs as tuples.  "
   ]
  },
  {
   "cell_type": "code",
   "execution_count": null,
   "id": "b892ab24-b6d3-4969-a03f-7d884e486637",
   "metadata": {},
   "outputs": [],
   "source": [
    "dict1.items()"
   ]
  },
  {
   "cell_type": "markdown",
   "id": "3aaf4dca-7419-427b-ae4a-cf66ce5fc388",
   "metadata": {},
   "source": [
    "- **keys()**: Returns a view object that displays a list of all the keys in the dictionary.  "
   ]
  },
  {
   "cell_type": "code",
   "execution_count": null,
   "id": "639b3224-ee89-4fef-89b5-de08a89a77b3",
   "metadata": {},
   "outputs": [],
   "source": [
    "dict1.keys()"
   ]
  },
  {
   "cell_type": "markdown",
   "id": "fc6ca268-4c18-430e-954d-fc67e35807da",
   "metadata": {},
   "source": [
    "- **pop(key)**: Removes the specified key and returns its value. If the key does not exist, returns the default value (or raises a `KeyError` if not specified).  \n"
   ]
  },
  {
   "cell_type": "code",
   "execution_count": null,
   "id": "69e6ed64-68da-4497-baf5-21d87e210491",
   "metadata": {},
   "outputs": [],
   "source": [
    "dict1.pop('course')"
   ]
  },
  {
   "cell_type": "code",
   "execution_count": null,
   "id": "30ad8e91-1e7d-43fa-ab9c-80645de6383d",
   "metadata": {},
   "outputs": [],
   "source": [
    "dict1"
   ]
  },
  {
   "cell_type": "markdown",
   "id": "dceeb6a1-edfa-4605-b26f-0c61c6af2470",
   "metadata": {},
   "source": [
    "- **popitem()**: Removes and returns the last inserted key-value pair as a tuple. Raises a `KeyError` if the dictionary is empty.  "
   ]
  },
  {
   "cell_type": "code",
   "execution_count": null,
   "id": "b217bed3-b200-45c1-aae0-fd2c64e80b86",
   "metadata": {},
   "outputs": [],
   "source": [
    "dict1.popitem()"
   ]
  },
  {
   "cell_type": "code",
   "execution_count": null,
   "id": "df4d6feb-5b41-433d-9585-0c7cdfa96ffa",
   "metadata": {},
   "outputs": [],
   "source": [
    "dict1"
   ]
  },
  {
   "cell_type": "markdown",
   "id": "660f537f-54fd-4a87-aa93-7c03dd3976bb",
   "metadata": {},
   "source": [
    "- **setdefault(key)**: Returns the value of the specified key. If the key does not exist, inserts the key with the specified default value (or `None` if not provided).  "
   ]
  },
  {
   "cell_type": "code",
   "execution_count": null,
   "id": "5a5e8d9a-fcae-45f8-b1b8-b75c31a21d8c",
   "metadata": {},
   "outputs": [],
   "source": [
    "dict1.setdefault('name')"
   ]
  },
  {
   "cell_type": "code",
   "execution_count": null,
   "id": "66a0202d-edff-49c8-89d2-876231b87f83",
   "metadata": {},
   "outputs": [],
   "source": [
    "dict1.setdefault('marks')"
   ]
  },
  {
   "cell_type": "code",
   "execution_count": null,
   "id": "5b47c7c6-8597-4332-a986-5fa355ba6b54",
   "metadata": {},
   "outputs": [],
   "source": [
    "dict1"
   ]
  },
  {
   "cell_type": "markdown",
   "id": "5bc68a14-abe5-4eac-9397-10bb5f21d0d2",
   "metadata": {},
   "source": [
    "- **values()**: Returns a view object that displays a list of all the values in the dictionary.  "
   ]
  },
  {
   "cell_type": "code",
   "execution_count": null,
   "id": "1b311358-d8f6-40b5-ab49-899ae639e703",
   "metadata": {},
   "outputs": [],
   "source": [
    "dict1.values()"
   ]
  },
  {
   "cell_type": "code",
   "execution_count": null,
   "id": "cd0a757e-c003-4161-84b9-49a5354f251f",
   "metadata": {},
   "outputs": [],
   "source": [
    "dict1 = {'Name': 'Anshum'}\n",
    "dict2 = {'course':'Data Science'}"
   ]
  },
  {
   "cell_type": "code",
   "execution_count": null,
   "id": "ccf8d36a-8ec3-4614-8c4f-c01f8ce95030",
   "metadata": {},
   "outputs": [],
   "source": [
    "dict1.update(dict2)"
   ]
  },
  {
   "cell_type": "code",
   "execution_count": null,
   "id": "6c8eafba-535e-4797-8731-b6dd05097413",
   "metadata": {},
   "outputs": [],
   "source": [
    "dict1"
   ]
  },
  {
   "cell_type": "markdown",
   "id": "a9b86a67-ff4e-49ff-8293-1aeff43a17a1",
   "metadata": {},
   "source": [
    "I'm Anshum Banga, a Data Scientist and Trainer with expertise in Python, machine learning, and data visualization. \n",
    "Connect with me on LinkedIn."
   ]
  }
 ],
 "metadata": {
  "kernelspec": {
   "display_name": "Python 3 (ipykernel)",
   "language": "python",
   "name": "python3"
  },
  "language_info": {
   "codemirror_mode": {
    "name": "ipython",
    "version": 3
   },
   "file_extension": ".py",
   "mimetype": "text/x-python",
   "name": "python",
   "nbconvert_exporter": "python",
   "pygments_lexer": "ipython3",
   "version": "3.11.7"
  }
 },
 "nbformat": 4,
 "nbformat_minor": 5
}
